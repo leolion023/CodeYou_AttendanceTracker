{
 "cells": [
  {
   "cell_type": "code",
   "execution_count": 9,
   "id": "cc02d731",
   "metadata": {},
   "outputs": [],
   "source": [
    "import pandas as pd\n",
    "import numpy as np\n",
    "from typing import List, Optional"
   ]
  },
  {
   "cell_type": "code",
   "execution_count": 10,
   "id": "5987e035",
   "metadata": {},
   "outputs": [],
   "source": [
    "mentor_df = pd.read_csv('../../data/Mentors.csv')\n",
    "staff_df = pd.read_csv('../../data/Staff.csv')\n",
    "meeting_1 = pd.read_excel('../../data/2025-07-29 17_45 wrt-nsga-feo Attendance Report.xlsx')\n",
    "meeting_2 = pd.read_excel('../../data/2025-07-30 17_50 kan-ptwt-ehz Attendance Report.xlsx')"
   ]
  },
  {
   "cell_type": "code",
   "execution_count": 11,
   "id": "886a505c",
   "metadata": {},
   "outputs": [
    {
     "data": {
      "application/vnd.microsoft.datawrangler.viewer.v0+json": {
       "columns": [
        {
         "name": "index",
         "rawType": "int64",
         "type": "integer"
        },
        {
         "name": "First Name",
         "rawType": "object",
         "type": "string"
        },
        {
         "name": "Last Name",
         "rawType": "object",
         "type": "unknown"
        },
        {
         "name": "Alternate Name",
         "rawType": "object",
         "type": "unknown"
        }
       ],
       "ref": "d48b851d-dadb-4460-86c9-28d174149c6d",
       "rows": [
        [
         "0",
         "Alex",
         "D",
         null
        ],
        [
         "1",
         "Annaleya",
         "Hamilton",
         null
        ],
        [
         "2",
         "Austin",
         "Reading",
         null
        ],
        [
         "3",
         "Barbara",
         "Adkins",
         null
        ],
        [
         "4",
         "Bill",
         "Montgomery",
         null
        ],
        [
         "5",
         "Blare",
         "Robinson",
         null
        ],
        [
         "6",
         "Chris",
         "Metcalfe",
         "Chris Metcalfe"
        ],
        [
         "7",
         "Chris ",
         "Kaelin",
         null
        ],
        [
         "8",
         "Christina",
         "Porter",
         null
        ],
        [
         "9",
         "Cody",
         "Miller",
         null
        ],
        [
         "10",
         "Craig",
         "Geil",
         null
        ],
        [
         "11",
         "David  ",
         "Brundage",
         null
        ],
        [
         "12",
         "David  ",
         "Dieruf",
         null
        ],
        [
         "13",
         "Elizabeth",
         "George",
         null
        ],
        [
         "14",
         "Elizabeth",
         "Hahn",
         null
        ],
        [
         "15",
         "Euclides",
         "Vezga",
         null
        ],
        [
         "16",
         "Jake",
         "St Germain",
         null
        ],
        [
         "17",
         "Jake",
         "Sexton",
         null
        ],
        [
         "18",
         "John",
         "Stokes",
         null
        ],
        [
         "19",
         "Justin",
         "Schuhmann",
         null
        ],
        [
         "20",
         "Ken",
         "Quiggins",
         "ken quiggins"
        ],
        [
         "21",
         "Lawrence",
         "Caudle",
         null
        ],
        [
         "22",
         "Liz",
         "Hahn",
         null
        ],
        [
         "23",
         "Matt",
         "Harvey",
         null
        ],
        [
         "24",
         "Matt",
         "Deshon",
         null
        ],
        [
         "25",
         "Michael",
         "Puckett",
         null
        ],
        [
         "26",
         "Mostafa  ",
         "Nabieh",
         null
        ],
        [
         "27",
         "Nick",
         "Swinford",
         null
        ],
        [
         "28",
         "Radmila",
         null,
         null
        ],
        [
         "29",
         "Rama",
         "Kattunga",
         null
        ],
        [
         "30",
         "Reddy",
         "Praveena",
         null
        ],
        [
         "31",
         "Robert",
         "York",
         null
        ],
        [
         "32",
         "Ryan  ",
         "Thompson",
         null
        ],
        [
         "33",
         "Saravanan ",
         "Murugan",
         null
        ],
        [
         "34",
         "Sebastian",
         "Frohm",
         null
        ],
        [
         "35",
         "Sunny",
         "Zanchi",
         null
        ]
       ],
       "shape": {
        "columns": 3,
        "rows": 36
       }
      },
      "text/html": [
       "<div>\n",
       "<style scoped>\n",
       "    .dataframe tbody tr th:only-of-type {\n",
       "        vertical-align: middle;\n",
       "    }\n",
       "\n",
       "    .dataframe tbody tr th {\n",
       "        vertical-align: top;\n",
       "    }\n",
       "\n",
       "    .dataframe thead th {\n",
       "        text-align: right;\n",
       "    }\n",
       "</style>\n",
       "<table border=\"1\" class=\"dataframe\">\n",
       "  <thead>\n",
       "    <tr style=\"text-align: right;\">\n",
       "      <th></th>\n",
       "      <th>First Name</th>\n",
       "      <th>Last Name</th>\n",
       "      <th>Alternate Name</th>\n",
       "    </tr>\n",
       "  </thead>\n",
       "  <tbody>\n",
       "    <tr>\n",
       "      <th>0</th>\n",
       "      <td>Alex</td>\n",
       "      <td>D</td>\n",
       "      <td>NaN</td>\n",
       "    </tr>\n",
       "    <tr>\n",
       "      <th>1</th>\n",
       "      <td>Annaleya</td>\n",
       "      <td>Hamilton</td>\n",
       "      <td>NaN</td>\n",
       "    </tr>\n",
       "    <tr>\n",
       "      <th>2</th>\n",
       "      <td>Austin</td>\n",
       "      <td>Reading</td>\n",
       "      <td>NaN</td>\n",
       "    </tr>\n",
       "    <tr>\n",
       "      <th>3</th>\n",
       "      <td>Barbara</td>\n",
       "      <td>Adkins</td>\n",
       "      <td>NaN</td>\n",
       "    </tr>\n",
       "    <tr>\n",
       "      <th>4</th>\n",
       "      <td>Bill</td>\n",
       "      <td>Montgomery</td>\n",
       "      <td>NaN</td>\n",
       "    </tr>\n",
       "    <tr>\n",
       "      <th>5</th>\n",
       "      <td>Blare</td>\n",
       "      <td>Robinson</td>\n",
       "      <td>NaN</td>\n",
       "    </tr>\n",
       "    <tr>\n",
       "      <th>6</th>\n",
       "      <td>Chris</td>\n",
       "      <td>Metcalfe</td>\n",
       "      <td>Chris Metcalfe</td>\n",
       "    </tr>\n",
       "    <tr>\n",
       "      <th>7</th>\n",
       "      <td>Chris</td>\n",
       "      <td>Kaelin</td>\n",
       "      <td>NaN</td>\n",
       "    </tr>\n",
       "    <tr>\n",
       "      <th>8</th>\n",
       "      <td>Christina</td>\n",
       "      <td>Porter</td>\n",
       "      <td>NaN</td>\n",
       "    </tr>\n",
       "    <tr>\n",
       "      <th>9</th>\n",
       "      <td>Cody</td>\n",
       "      <td>Miller</td>\n",
       "      <td>NaN</td>\n",
       "    </tr>\n",
       "    <tr>\n",
       "      <th>10</th>\n",
       "      <td>Craig</td>\n",
       "      <td>Geil</td>\n",
       "      <td>NaN</td>\n",
       "    </tr>\n",
       "    <tr>\n",
       "      <th>11</th>\n",
       "      <td>David</td>\n",
       "      <td>Brundage</td>\n",
       "      <td>NaN</td>\n",
       "    </tr>\n",
       "    <tr>\n",
       "      <th>12</th>\n",
       "      <td>David</td>\n",
       "      <td>Dieruf</td>\n",
       "      <td>NaN</td>\n",
       "    </tr>\n",
       "    <tr>\n",
       "      <th>13</th>\n",
       "      <td>Elizabeth</td>\n",
       "      <td>George</td>\n",
       "      <td>NaN</td>\n",
       "    </tr>\n",
       "    <tr>\n",
       "      <th>14</th>\n",
       "      <td>Elizabeth</td>\n",
       "      <td>Hahn</td>\n",
       "      <td>NaN</td>\n",
       "    </tr>\n",
       "    <tr>\n",
       "      <th>15</th>\n",
       "      <td>Euclides</td>\n",
       "      <td>Vezga</td>\n",
       "      <td>NaN</td>\n",
       "    </tr>\n",
       "    <tr>\n",
       "      <th>16</th>\n",
       "      <td>Jake</td>\n",
       "      <td>St Germain</td>\n",
       "      <td>NaN</td>\n",
       "    </tr>\n",
       "    <tr>\n",
       "      <th>17</th>\n",
       "      <td>Jake</td>\n",
       "      <td>Sexton</td>\n",
       "      <td>NaN</td>\n",
       "    </tr>\n",
       "    <tr>\n",
       "      <th>18</th>\n",
       "      <td>John</td>\n",
       "      <td>Stokes</td>\n",
       "      <td>NaN</td>\n",
       "    </tr>\n",
       "    <tr>\n",
       "      <th>19</th>\n",
       "      <td>Justin</td>\n",
       "      <td>Schuhmann</td>\n",
       "      <td>NaN</td>\n",
       "    </tr>\n",
       "    <tr>\n",
       "      <th>20</th>\n",
       "      <td>Ken</td>\n",
       "      <td>Quiggins</td>\n",
       "      <td>ken quiggins</td>\n",
       "    </tr>\n",
       "    <tr>\n",
       "      <th>21</th>\n",
       "      <td>Lawrence</td>\n",
       "      <td>Caudle</td>\n",
       "      <td>NaN</td>\n",
       "    </tr>\n",
       "    <tr>\n",
       "      <th>22</th>\n",
       "      <td>Liz</td>\n",
       "      <td>Hahn</td>\n",
       "      <td>NaN</td>\n",
       "    </tr>\n",
       "    <tr>\n",
       "      <th>23</th>\n",
       "      <td>Matt</td>\n",
       "      <td>Harvey</td>\n",
       "      <td>NaN</td>\n",
       "    </tr>\n",
       "    <tr>\n",
       "      <th>24</th>\n",
       "      <td>Matt</td>\n",
       "      <td>Deshon</td>\n",
       "      <td>NaN</td>\n",
       "    </tr>\n",
       "    <tr>\n",
       "      <th>25</th>\n",
       "      <td>Michael</td>\n",
       "      <td>Puckett</td>\n",
       "      <td>NaN</td>\n",
       "    </tr>\n",
       "    <tr>\n",
       "      <th>26</th>\n",
       "      <td>Mostafa</td>\n",
       "      <td>Nabieh</td>\n",
       "      <td>NaN</td>\n",
       "    </tr>\n",
       "    <tr>\n",
       "      <th>27</th>\n",
       "      <td>Nick</td>\n",
       "      <td>Swinford</td>\n",
       "      <td>NaN</td>\n",
       "    </tr>\n",
       "    <tr>\n",
       "      <th>28</th>\n",
       "      <td>Radmila</td>\n",
       "      <td>NaN</td>\n",
       "      <td>NaN</td>\n",
       "    </tr>\n",
       "    <tr>\n",
       "      <th>29</th>\n",
       "      <td>Rama</td>\n",
       "      <td>Kattunga</td>\n",
       "      <td>NaN</td>\n",
       "    </tr>\n",
       "    <tr>\n",
       "      <th>30</th>\n",
       "      <td>Reddy</td>\n",
       "      <td>Praveena</td>\n",
       "      <td>NaN</td>\n",
       "    </tr>\n",
       "    <tr>\n",
       "      <th>31</th>\n",
       "      <td>Robert</td>\n",
       "      <td>York</td>\n",
       "      <td>NaN</td>\n",
       "    </tr>\n",
       "    <tr>\n",
       "      <th>32</th>\n",
       "      <td>Ryan</td>\n",
       "      <td>Thompson</td>\n",
       "      <td>NaN</td>\n",
       "    </tr>\n",
       "    <tr>\n",
       "      <th>33</th>\n",
       "      <td>Saravanan</td>\n",
       "      <td>Murugan</td>\n",
       "      <td>NaN</td>\n",
       "    </tr>\n",
       "    <tr>\n",
       "      <th>34</th>\n",
       "      <td>Sebastian</td>\n",
       "      <td>Frohm</td>\n",
       "      <td>NaN</td>\n",
       "    </tr>\n",
       "    <tr>\n",
       "      <th>35</th>\n",
       "      <td>Sunny</td>\n",
       "      <td>Zanchi</td>\n",
       "      <td>NaN</td>\n",
       "    </tr>\n",
       "  </tbody>\n",
       "</table>\n",
       "</div>"
      ],
      "text/plain": [
       "    First Name   Last Name  Alternate Name\n",
       "0         Alex           D             NaN\n",
       "1     Annaleya    Hamilton             NaN\n",
       "2       Austin     Reading             NaN\n",
       "3      Barbara      Adkins             NaN\n",
       "4         Bill  Montgomery             NaN\n",
       "5        Blare    Robinson             NaN\n",
       "6        Chris    Metcalfe  Chris Metcalfe\n",
       "7       Chris       Kaelin             NaN\n",
       "8    Christina      Porter             NaN\n",
       "9         Cody      Miller             NaN\n",
       "10       Craig        Geil             NaN\n",
       "11     David      Brundage             NaN\n",
       "12     David        Dieruf             NaN\n",
       "13   Elizabeth      George             NaN\n",
       "14   Elizabeth        Hahn             NaN\n",
       "15    Euclides       Vezga             NaN\n",
       "16        Jake  St Germain             NaN\n",
       "17        Jake      Sexton             NaN\n",
       "18        John      Stokes             NaN\n",
       "19      Justin   Schuhmann             NaN\n",
       "20         Ken    Quiggins    ken quiggins\n",
       "21    Lawrence      Caudle             NaN\n",
       "22         Liz        Hahn             NaN\n",
       "23        Matt      Harvey             NaN\n",
       "24        Matt      Deshon             NaN\n",
       "25     Michael     Puckett             NaN\n",
       "26   Mostafa        Nabieh             NaN\n",
       "27        Nick    Swinford             NaN\n",
       "28     Radmila         NaN             NaN\n",
       "29        Rama    Kattunga             NaN\n",
       "30       Reddy    Praveena             NaN\n",
       "31      Robert        York             NaN\n",
       "32      Ryan      Thompson             NaN\n",
       "33  Saravanan      Murugan             NaN\n",
       "34   Sebastian       Frohm             NaN\n",
       "35       Sunny      Zanchi             NaN"
      ]
     },
     "execution_count": 11,
     "metadata": {},
     "output_type": "execute_result"
    }
   ],
   "source": [
    "mentor_df"
   ]
  },
  {
   "cell_type": "code",
   "execution_count": 12,
   "id": "14c2c742",
   "metadata": {},
   "outputs": [
    {
     "data": {
      "application/vnd.microsoft.datawrangler.viewer.v0+json": {
       "columns": [
        {
         "name": "index",
         "rawType": "int64",
         "type": "integer"
        },
        {
         "name": "First Name",
         "rawType": "object",
         "type": "string"
        },
        {
         "name": "Last name",
         "rawType": "object",
         "type": "string"
        },
        {
         "name": "Alternate Name",
         "rawType": "float64",
         "type": "float"
        },
        {
         "name": "Email",
         "rawType": "float64",
         "type": "float"
        },
        {
         "name": "Region",
         "rawType": "float64",
         "type": "float"
        }
       ],
       "ref": "d6925467-5753-434b-a678-241e30dbb117",
       "rows": [
        [
         "0",
         "Ailene",
         "Johnston",
         null,
         null,
         null
        ],
        [
         "1",
         "Alli",
         "Rippy",
         null,
         null,
         null
        ],
        [
         "2",
         "Amanda ",
         "Gearhart",
         null,
         null,
         null
        ],
        [
         "3",
         "August",
         "Mapp",
         null,
         null,
         null
        ],
        [
         "4",
         "Blake",
         "Herbert",
         null,
         null,
         null
        ],
        [
         "5",
         "Brian ",
         "Luerman",
         null,
         null,
         null
        ],
        [
         "6",
         "classroom",
         "admin",
         null,
         null,
         null
        ],
        [
         "7",
         "Dan",
         "Collins",
         null,
         null,
         null
        ],
        [
         "8",
         "Danny",
         "Morton",
         null,
         null,
         null
        ],
        [
         "9",
         "David",
         "York",
         null,
         null,
         null
        ],
        [
         "10",
         "Emily",
         "Sullivan",
         null,
         null,
         null
        ],
        [
         "11",
         "Jared",
         "Mueller",
         null,
         null,
         null
        ],
        [
         "12",
         "Jenny",
         "Terry",
         null,
         null,
         null
        ],
        [
         "13",
         "Kalee",
         "Howard",
         null,
         null,
         null
        ],
        [
         "14",
         "Rekkai",
         "Steed",
         null,
         null,
         null
        ],
        [
         "15",
         "Shannon",
         "Sheehy",
         null,
         null,
         null
        ],
        [
         "16",
         "Tonia",
         "Nolden",
         null,
         null,
         null
        ]
       ],
       "shape": {
        "columns": 5,
        "rows": 17
       }
      },
      "text/html": [
       "<div>\n",
       "<style scoped>\n",
       "    .dataframe tbody tr th:only-of-type {\n",
       "        vertical-align: middle;\n",
       "    }\n",
       "\n",
       "    .dataframe tbody tr th {\n",
       "        vertical-align: top;\n",
       "    }\n",
       "\n",
       "    .dataframe thead th {\n",
       "        text-align: right;\n",
       "    }\n",
       "</style>\n",
       "<table border=\"1\" class=\"dataframe\">\n",
       "  <thead>\n",
       "    <tr style=\"text-align: right;\">\n",
       "      <th></th>\n",
       "      <th>First Name</th>\n",
       "      <th>Last name</th>\n",
       "      <th>Alternate Name</th>\n",
       "      <th>Email</th>\n",
       "      <th>Region</th>\n",
       "    </tr>\n",
       "  </thead>\n",
       "  <tbody>\n",
       "    <tr>\n",
       "      <th>0</th>\n",
       "      <td>Ailene</td>\n",
       "      <td>Johnston</td>\n",
       "      <td>NaN</td>\n",
       "      <td>NaN</td>\n",
       "      <td>NaN</td>\n",
       "    </tr>\n",
       "    <tr>\n",
       "      <th>1</th>\n",
       "      <td>Alli</td>\n",
       "      <td>Rippy</td>\n",
       "      <td>NaN</td>\n",
       "      <td>NaN</td>\n",
       "      <td>NaN</td>\n",
       "    </tr>\n",
       "    <tr>\n",
       "      <th>2</th>\n",
       "      <td>Amanda</td>\n",
       "      <td>Gearhart</td>\n",
       "      <td>NaN</td>\n",
       "      <td>NaN</td>\n",
       "      <td>NaN</td>\n",
       "    </tr>\n",
       "    <tr>\n",
       "      <th>3</th>\n",
       "      <td>August</td>\n",
       "      <td>Mapp</td>\n",
       "      <td>NaN</td>\n",
       "      <td>NaN</td>\n",
       "      <td>NaN</td>\n",
       "    </tr>\n",
       "    <tr>\n",
       "      <th>4</th>\n",
       "      <td>Blake</td>\n",
       "      <td>Herbert</td>\n",
       "      <td>NaN</td>\n",
       "      <td>NaN</td>\n",
       "      <td>NaN</td>\n",
       "    </tr>\n",
       "    <tr>\n",
       "      <th>5</th>\n",
       "      <td>Brian</td>\n",
       "      <td>Luerman</td>\n",
       "      <td>NaN</td>\n",
       "      <td>NaN</td>\n",
       "      <td>NaN</td>\n",
       "    </tr>\n",
       "    <tr>\n",
       "      <th>6</th>\n",
       "      <td>classroom</td>\n",
       "      <td>admin</td>\n",
       "      <td>NaN</td>\n",
       "      <td>NaN</td>\n",
       "      <td>NaN</td>\n",
       "    </tr>\n",
       "    <tr>\n",
       "      <th>7</th>\n",
       "      <td>Dan</td>\n",
       "      <td>Collins</td>\n",
       "      <td>NaN</td>\n",
       "      <td>NaN</td>\n",
       "      <td>NaN</td>\n",
       "    </tr>\n",
       "    <tr>\n",
       "      <th>8</th>\n",
       "      <td>Danny</td>\n",
       "      <td>Morton</td>\n",
       "      <td>NaN</td>\n",
       "      <td>NaN</td>\n",
       "      <td>NaN</td>\n",
       "    </tr>\n",
       "    <tr>\n",
       "      <th>9</th>\n",
       "      <td>David</td>\n",
       "      <td>York</td>\n",
       "      <td>NaN</td>\n",
       "      <td>NaN</td>\n",
       "      <td>NaN</td>\n",
       "    </tr>\n",
       "    <tr>\n",
       "      <th>10</th>\n",
       "      <td>Emily</td>\n",
       "      <td>Sullivan</td>\n",
       "      <td>NaN</td>\n",
       "      <td>NaN</td>\n",
       "      <td>NaN</td>\n",
       "    </tr>\n",
       "    <tr>\n",
       "      <th>11</th>\n",
       "      <td>Jared</td>\n",
       "      <td>Mueller</td>\n",
       "      <td>NaN</td>\n",
       "      <td>NaN</td>\n",
       "      <td>NaN</td>\n",
       "    </tr>\n",
       "    <tr>\n",
       "      <th>12</th>\n",
       "      <td>Jenny</td>\n",
       "      <td>Terry</td>\n",
       "      <td>NaN</td>\n",
       "      <td>NaN</td>\n",
       "      <td>NaN</td>\n",
       "    </tr>\n",
       "    <tr>\n",
       "      <th>13</th>\n",
       "      <td>Kalee</td>\n",
       "      <td>Howard</td>\n",
       "      <td>NaN</td>\n",
       "      <td>NaN</td>\n",
       "      <td>NaN</td>\n",
       "    </tr>\n",
       "    <tr>\n",
       "      <th>14</th>\n",
       "      <td>Rekkai</td>\n",
       "      <td>Steed</td>\n",
       "      <td>NaN</td>\n",
       "      <td>NaN</td>\n",
       "      <td>NaN</td>\n",
       "    </tr>\n",
       "    <tr>\n",
       "      <th>15</th>\n",
       "      <td>Shannon</td>\n",
       "      <td>Sheehy</td>\n",
       "      <td>NaN</td>\n",
       "      <td>NaN</td>\n",
       "      <td>NaN</td>\n",
       "    </tr>\n",
       "    <tr>\n",
       "      <th>16</th>\n",
       "      <td>Tonia</td>\n",
       "      <td>Nolden</td>\n",
       "      <td>NaN</td>\n",
       "      <td>NaN</td>\n",
       "      <td>NaN</td>\n",
       "    </tr>\n",
       "  </tbody>\n",
       "</table>\n",
       "</div>"
      ],
      "text/plain": [
       "   First Name Last name  Alternate Name  Email  Region\n",
       "0      Ailene  Johnston             NaN    NaN     NaN\n",
       "1        Alli     Rippy             NaN    NaN     NaN\n",
       "2     Amanda   Gearhart             NaN    NaN     NaN\n",
       "3      August      Mapp             NaN    NaN     NaN\n",
       "4       Blake   Herbert             NaN    NaN     NaN\n",
       "5      Brian    Luerman             NaN    NaN     NaN\n",
       "6   classroom     admin             NaN    NaN     NaN\n",
       "7         Dan   Collins             NaN    NaN     NaN\n",
       "8       Danny    Morton             NaN    NaN     NaN\n",
       "9       David      York             NaN    NaN     NaN\n",
       "10      Emily  Sullivan             NaN    NaN     NaN\n",
       "11      Jared   Mueller             NaN    NaN     NaN\n",
       "12      Jenny     Terry             NaN    NaN     NaN\n",
       "13      Kalee    Howard             NaN    NaN     NaN\n",
       "14     Rekkai     Steed             NaN    NaN     NaN\n",
       "15    Shannon    Sheehy             NaN    NaN     NaN\n",
       "16      Tonia    Nolden             NaN    NaN     NaN"
      ]
     },
     "execution_count": 12,
     "metadata": {},
     "output_type": "execute_result"
    }
   ],
   "source": [
    "staff_df"
   ]
  },
  {
   "cell_type": "code",
   "execution_count": 13,
   "id": "3df8b097",
   "metadata": {},
   "outputs": [],
   "source": [
    "def keep_name(df: pd.DataFrame) -> pd.DataFrame:\n",
    "    \"\"\"\n",
    "    Titles columns in a DataFrame and drops all other columns that is not the 'First Name' and 'Last Name'.\n",
    "\n",
    "    Args:\n",
    "        df (pd.DataFrame): A data frame containing at least 'First Name' and 'Last Name' columns.\n",
    "\n",
    "    Returns:\n",
    "        pd.DataFrame: A Data Frame with only the 'First Name' and 'Last Name' Columns\n",
    "    \"\"\"\n",
    "    df.columns = df.columns.str.title()\n",
    "    df['First Name'] = df['First Name'].str.title()\n",
    "    df['Last Name'] = df['Last Name'].str.title()\n",
    "    col_to_keep = ['First Name', 'Last Name']\n",
    "    return df[col_to_keep].copy()"
   ]
  },
  {
   "cell_type": "code",
   "execution_count": 14,
   "id": "a3b7e280",
   "metadata": {},
   "outputs": [],
   "source": [
    "def process_meeting_times(df: pd.DataFrame) -> pd.DataFrame:\n",
    "    \"\"\"\n",
    "    Standardize meeting time columns and calculate duration.\n",
    "\n",
    "    Steps performed:\n",
    "    1. Converts 'Time Joined' and 'Time Exited' columns to datetime objects.\n",
    "    2. Calculates the meeting duration in minutes and stores it in 'Duration in Minutes'.\n",
    "\n",
    "    Parameters\n",
    "    ----------\n",
    "    df : pd.DataFrame\n",
    "        DataFrame containing meeting data with 'Time Joined' and 'Time Exited' columns.\n",
    "\n",
    "    Returns\n",
    "    -------\n",
    "    pd.DataFrame\n",
    "        Updated DataFrame with time columns as datetime and a duration column.\n",
    "    \"\"\"\n",
    "    df.columns = df.columns.str.title()\n",
    "    df['Time Joined'] = pd.to_datetime(df['Time Joined'], format='%I:%M %p', errors='coerce')\n",
    "    df['Time Exited'] = pd.to_datetime(df['Time Exited'], format='%I:%M %p', errors='coerce')\n",
    "    df['Duration In Minutes'] = (\n",
    "        df['Time Exited'] - df['Time Joined']\n",
    "    ).dt.total_seconds() / 60\n",
    "    return df\n",
    "\n",
    "\n",
    "def add_full_name(df: pd.DataFrame) -> pd.DataFrame:\n",
    "    \"\"\"\n",
    "    Add a 'Full Name' column by combining 'First Name' and 'Last Name'.\n",
    "\n",
    "    Parameters\n",
    "    ----------\n",
    "    df : pd.DataFrame\n",
    "        DataFrame containing 'First Name' and 'Last Name' columns.\n",
    "\n",
    "    Returns\n",
    "    -------\n",
    "    pd.DataFrame\n",
    "        DataFrame with a new 'Full Name' column.\n",
    "    \"\"\"\n",
    "    df['Full Name'] = df['First Name'].str.title() + ' ' + df['Last Name'].str.title()\n",
    "    return df"
   ]
  },
  {
   "cell_type": "code",
   "execution_count": 15,
   "id": "bd9d1679",
   "metadata": {},
   "outputs": [],
   "source": [
    "def split_names(df: pd.DataFrame) -> pd.DataFrame:\n",
    "    \"\"\"Function accounting for instance where first name column contains more than just the first name\n",
    "\n",
    "    Args:\n",
    "        df (pd.DataFrame): DataFrame that needs to be checked for more than one name in first name\n",
    "\n",
    "    Returns:\n",
    "        pd.DataFrame: DataFrame containing only the first name in the first name column and fills the last name column with the last name\n",
    "    \"\"\"\n",
    "    if ' ' in df['First Name']:\n",
    "        names = df['First Name'].split()\n",
    "        if len(names) >= 2:\n",
    "            df['First Name'] = names[0]\n",
    "            df['Last Name'] = names[-1]\n",
    "    return df"
   ]
  },
  {
   "cell_type": "code",
   "execution_count": 16,
   "id": "c3b40f9d",
   "metadata": {},
   "outputs": [],
   "source": [
    "def clean_name_df(df: pd.DataFrame) -> pd.DataFrame:\n",
    "    \"\"\"\n",
    "    Clean and standardize names for a DataFrame.\n",
    "\n",
    "    Steps performed:\n",
    "    1. Capitalizes column names for consistency.\n",
    "    2. Drops all comlumns that are not 'Fist Name' or 'Last Name'\n",
    "    3. Fill null values in name columns.\n",
    "    4. Accounts for instance where 'First Name' contains 'Last Name'\n",
    "    5. Creates a 'Full Name' column by combining 'First Name' and 'Last Name'.\n",
    "\n",
    "    Parameters\n",
    "    ----------\n",
    "    df : pd.DataFrame\n",
    "        Input DataFrame containing name data.\n",
    "\n",
    "    Returns\n",
    "    -------\n",
    "    pd.DataFrame\n",
    "        A cleaned DataFrame with standardized columns and a 'Full Name' field.\n",
    "    \"\"\"\n",
    "    df = keep_name(df)\n",
    "    if df.isna().any().any() == True:\n",
    "        df = df.fillna('Unknown')\n",
    "    df = df.apply(split_names, 1)    \n",
    "    df = add_full_name(df)\n",
    "\n",
    "    return df"
   ]
  },
  {
   "cell_type": "markdown",
   "id": "be9d8721",
   "metadata": {},
   "source": [
    "Gives us info on the function from the doc string"
   ]
  },
  {
   "cell_type": "code",
   "execution_count": 17,
   "id": "628949fb",
   "metadata": {},
   "outputs": [
    {
     "name": "stdout",
     "output_type": "stream",
     "text": [
      "\u001b[31mSignature:\u001b[39m clean_name_df(df: pandas.core.frame.DataFrame) -> pandas.core.frame.DataFrame\n",
      "\u001b[31mDocstring:\u001b[39m\n",
      "Clean and standardize names for a DataFrame.\n",
      "\n",
      "Steps performed:\n",
      "1. Capitalizes column names for consistency.\n",
      "2. Drops all comlumns that are not 'Fist Name' or 'Last Name'\n",
      "3. Fill null values in name columns.\n",
      "4. Accounts for instance where 'First Name' contains 'Last Name'\n",
      "5. Creates a 'Full Name' column by combining 'First Name' and 'Last Name'.\n",
      "\n",
      "Parameters\n",
      "----------\n",
      "df : pd.DataFrame\n",
      "    Input DataFrame containing name data.\n",
      "\n",
      "Returns\n",
      "-------\n",
      "pd.DataFrame\n",
      "    A cleaned DataFrame with standardized columns and a 'Full Name' field.\n",
      "\u001b[31mFile:\u001b[39m      c:\\users\\leolion023\\appdata\\local\\temp\\ipykernel_123176\\4077920601.py\n",
      "\u001b[31mType:\u001b[39m      function"
     ]
    }
   ],
   "source": [
    "clean_name_df?"
   ]
  },
  {
   "cell_type": "code",
   "execution_count": 18,
   "id": "9e6b2ba9",
   "metadata": {},
   "outputs": [
    {
     "data": {
      "application/vnd.microsoft.datawrangler.viewer.v0+json": {
       "columns": [
        {
         "name": "index",
         "rawType": "int64",
         "type": "integer"
        },
        {
         "name": "First Name",
         "rawType": "object",
         "type": "string"
        },
        {
         "name": "Last Name",
         "rawType": "object",
         "type": "string"
        },
        {
         "name": "Full Name",
         "rawType": "object",
         "type": "string"
        }
       ],
       "ref": "01a4a84f-e857-48a2-ac6c-8f02d7337651",
       "rows": [
        [
         "0",
         "Ailene",
         "Johnston",
         "Ailene Johnston"
        ],
        [
         "1",
         "Alli",
         "Rippy",
         "Alli Rippy"
        ],
        [
         "2",
         "Amanda ",
         "Gearhart",
         "Amanda  Gearhart"
        ],
        [
         "3",
         "August",
         "Mapp",
         "August Mapp"
        ],
        [
         "4",
         "Blake",
         "Herbert",
         "Blake Herbert"
        ],
        [
         "5",
         "Brian ",
         "Luerman",
         "Brian  Luerman"
        ],
        [
         "6",
         "Classroom",
         "Admin",
         "Classroom Admin"
        ],
        [
         "7",
         "Dan",
         "Collins",
         "Dan Collins"
        ],
        [
         "8",
         "Danny",
         "Morton",
         "Danny Morton"
        ],
        [
         "9",
         "David",
         "York",
         "David York"
        ],
        [
         "10",
         "Emily",
         "Sullivan",
         "Emily Sullivan"
        ],
        [
         "11",
         "Jared",
         "Mueller",
         "Jared Mueller"
        ],
        [
         "12",
         "Jenny",
         "Terry",
         "Jenny Terry"
        ],
        [
         "13",
         "Kalee",
         "Howard",
         "Kalee Howard"
        ],
        [
         "14",
         "Rekkai",
         "Steed",
         "Rekkai Steed"
        ],
        [
         "15",
         "Shannon",
         "Sheehy",
         "Shannon Sheehy"
        ],
        [
         "16",
         "Tonia",
         "Nolden",
         "Tonia Nolden"
        ]
       ],
       "shape": {
        "columns": 3,
        "rows": 17
       }
      },
      "text/html": [
       "<div>\n",
       "<style scoped>\n",
       "    .dataframe tbody tr th:only-of-type {\n",
       "        vertical-align: middle;\n",
       "    }\n",
       "\n",
       "    .dataframe tbody tr th {\n",
       "        vertical-align: top;\n",
       "    }\n",
       "\n",
       "    .dataframe thead th {\n",
       "        text-align: right;\n",
       "    }\n",
       "</style>\n",
       "<table border=\"1\" class=\"dataframe\">\n",
       "  <thead>\n",
       "    <tr style=\"text-align: right;\">\n",
       "      <th></th>\n",
       "      <th>First Name</th>\n",
       "      <th>Last Name</th>\n",
       "      <th>Full Name</th>\n",
       "    </tr>\n",
       "  </thead>\n",
       "  <tbody>\n",
       "    <tr>\n",
       "      <th>0</th>\n",
       "      <td>Ailene</td>\n",
       "      <td>Johnston</td>\n",
       "      <td>Ailene Johnston</td>\n",
       "    </tr>\n",
       "    <tr>\n",
       "      <th>1</th>\n",
       "      <td>Alli</td>\n",
       "      <td>Rippy</td>\n",
       "      <td>Alli Rippy</td>\n",
       "    </tr>\n",
       "    <tr>\n",
       "      <th>2</th>\n",
       "      <td>Amanda</td>\n",
       "      <td>Gearhart</td>\n",
       "      <td>Amanda  Gearhart</td>\n",
       "    </tr>\n",
       "    <tr>\n",
       "      <th>3</th>\n",
       "      <td>August</td>\n",
       "      <td>Mapp</td>\n",
       "      <td>August Mapp</td>\n",
       "    </tr>\n",
       "    <tr>\n",
       "      <th>4</th>\n",
       "      <td>Blake</td>\n",
       "      <td>Herbert</td>\n",
       "      <td>Blake Herbert</td>\n",
       "    </tr>\n",
       "    <tr>\n",
       "      <th>5</th>\n",
       "      <td>Brian</td>\n",
       "      <td>Luerman</td>\n",
       "      <td>Brian  Luerman</td>\n",
       "    </tr>\n",
       "    <tr>\n",
       "      <th>6</th>\n",
       "      <td>Classroom</td>\n",
       "      <td>Admin</td>\n",
       "      <td>Classroom Admin</td>\n",
       "    </tr>\n",
       "    <tr>\n",
       "      <th>7</th>\n",
       "      <td>Dan</td>\n",
       "      <td>Collins</td>\n",
       "      <td>Dan Collins</td>\n",
       "    </tr>\n",
       "    <tr>\n",
       "      <th>8</th>\n",
       "      <td>Danny</td>\n",
       "      <td>Morton</td>\n",
       "      <td>Danny Morton</td>\n",
       "    </tr>\n",
       "    <tr>\n",
       "      <th>9</th>\n",
       "      <td>David</td>\n",
       "      <td>York</td>\n",
       "      <td>David York</td>\n",
       "    </tr>\n",
       "    <tr>\n",
       "      <th>10</th>\n",
       "      <td>Emily</td>\n",
       "      <td>Sullivan</td>\n",
       "      <td>Emily Sullivan</td>\n",
       "    </tr>\n",
       "    <tr>\n",
       "      <th>11</th>\n",
       "      <td>Jared</td>\n",
       "      <td>Mueller</td>\n",
       "      <td>Jared Mueller</td>\n",
       "    </tr>\n",
       "    <tr>\n",
       "      <th>12</th>\n",
       "      <td>Jenny</td>\n",
       "      <td>Terry</td>\n",
       "      <td>Jenny Terry</td>\n",
       "    </tr>\n",
       "    <tr>\n",
       "      <th>13</th>\n",
       "      <td>Kalee</td>\n",
       "      <td>Howard</td>\n",
       "      <td>Kalee Howard</td>\n",
       "    </tr>\n",
       "    <tr>\n",
       "      <th>14</th>\n",
       "      <td>Rekkai</td>\n",
       "      <td>Steed</td>\n",
       "      <td>Rekkai Steed</td>\n",
       "    </tr>\n",
       "    <tr>\n",
       "      <th>15</th>\n",
       "      <td>Shannon</td>\n",
       "      <td>Sheehy</td>\n",
       "      <td>Shannon Sheehy</td>\n",
       "    </tr>\n",
       "    <tr>\n",
       "      <th>16</th>\n",
       "      <td>Tonia</td>\n",
       "      <td>Nolden</td>\n",
       "      <td>Tonia Nolden</td>\n",
       "    </tr>\n",
       "  </tbody>\n",
       "</table>\n",
       "</div>"
      ],
      "text/plain": [
       "   First Name Last Name         Full Name\n",
       "0      Ailene  Johnston   Ailene Johnston\n",
       "1        Alli     Rippy        Alli Rippy\n",
       "2     Amanda   Gearhart  Amanda  Gearhart\n",
       "3      August      Mapp       August Mapp\n",
       "4       Blake   Herbert     Blake Herbert\n",
       "5      Brian    Luerman    Brian  Luerman\n",
       "6   Classroom     Admin   Classroom Admin\n",
       "7         Dan   Collins       Dan Collins\n",
       "8       Danny    Morton      Danny Morton\n",
       "9       David      York        David York\n",
       "10      Emily  Sullivan    Emily Sullivan\n",
       "11      Jared   Mueller     Jared Mueller\n",
       "12      Jenny     Terry       Jenny Terry\n",
       "13      Kalee    Howard      Kalee Howard\n",
       "14     Rekkai     Steed      Rekkai Steed\n",
       "15    Shannon    Sheehy    Shannon Sheehy\n",
       "16      Tonia    Nolden      Tonia Nolden"
      ]
     },
     "execution_count": 18,
     "metadata": {},
     "output_type": "execute_result"
    }
   ],
   "source": [
    "staff_list = clean_name_df(staff_df)\n",
    "staff_list"
   ]
  },
  {
   "cell_type": "code",
   "execution_count": 19,
   "id": "6c86df50",
   "metadata": {},
   "outputs": [],
   "source": [
    "##clean_mentor_df?"
   ]
  },
  {
   "cell_type": "code",
   "execution_count": 20,
   "id": "115b41b9",
   "metadata": {},
   "outputs": [
    {
     "data": {
      "application/vnd.microsoft.datawrangler.viewer.v0+json": {
       "columns": [
        {
         "name": "index",
         "rawType": "int64",
         "type": "integer"
        },
        {
         "name": "First Name",
         "rawType": "object",
         "type": "string"
        },
        {
         "name": "Last Name",
         "rawType": "object",
         "type": "string"
        },
        {
         "name": "Full Name",
         "rawType": "object",
         "type": "string"
        }
       ],
       "ref": "419b9fc1-da25-4678-9002-0b53df500b33",
       "rows": [
        [
         "0",
         "Alex",
         "D",
         "Alex D"
        ],
        [
         "1",
         "Annaleya",
         "Hamilton",
         "Annaleya Hamilton"
        ],
        [
         "2",
         "Austin",
         "Reading",
         "Austin Reading"
        ],
        [
         "3",
         "Barbara",
         "Adkins",
         "Barbara Adkins"
        ],
        [
         "4",
         "Bill",
         "Montgomery",
         "Bill Montgomery"
        ],
        [
         "5",
         "Blare",
         "Robinson",
         "Blare Robinson"
        ],
        [
         "6",
         "Chris",
         "Metcalfe",
         "Chris Metcalfe"
        ],
        [
         "7",
         "Chris ",
         "Kaelin",
         "Chris  Kaelin"
        ],
        [
         "8",
         "Christina",
         "Porter",
         "Christina Porter"
        ],
        [
         "9",
         "Cody",
         "Miller",
         "Cody Miller"
        ],
        [
         "10",
         "Craig",
         "Geil",
         "Craig Geil"
        ],
        [
         "11",
         "David  ",
         "Brundage",
         "David   Brundage"
        ],
        [
         "12",
         "David  ",
         "Dieruf",
         "David   Dieruf"
        ],
        [
         "13",
         "Elizabeth",
         "George",
         "Elizabeth George"
        ],
        [
         "14",
         "Elizabeth",
         "Hahn",
         "Elizabeth Hahn"
        ],
        [
         "15",
         "Euclides",
         "Vezga",
         "Euclides Vezga"
        ],
        [
         "16",
         "Jake",
         "St Germain",
         "Jake St Germain"
        ],
        [
         "17",
         "Jake",
         "Sexton",
         "Jake Sexton"
        ],
        [
         "18",
         "John",
         "Stokes",
         "John Stokes"
        ],
        [
         "19",
         "Justin",
         "Schuhmann",
         "Justin Schuhmann"
        ],
        [
         "20",
         "Ken",
         "Quiggins",
         "Ken Quiggins"
        ],
        [
         "21",
         "Lawrence",
         "Caudle",
         "Lawrence Caudle"
        ],
        [
         "22",
         "Liz",
         "Hahn",
         "Liz Hahn"
        ],
        [
         "23",
         "Matt",
         "Harvey",
         "Matt Harvey"
        ],
        [
         "24",
         "Matt",
         "Deshon",
         "Matt Deshon"
        ],
        [
         "25",
         "Michael",
         "Puckett",
         "Michael Puckett"
        ],
        [
         "26",
         "Mostafa  ",
         "Nabieh",
         "Mostafa   Nabieh"
        ],
        [
         "27",
         "Nick",
         "Swinford",
         "Nick Swinford"
        ],
        [
         "28",
         "Radmila",
         "Unknown",
         "Radmila Unknown"
        ],
        [
         "29",
         "Rama",
         "Kattunga",
         "Rama Kattunga"
        ],
        [
         "30",
         "Reddy",
         "Praveena",
         "Reddy Praveena"
        ],
        [
         "31",
         "Robert",
         "York",
         "Robert York"
        ],
        [
         "32",
         "Ryan  ",
         "Thompson",
         "Ryan   Thompson"
        ],
        [
         "33",
         "Saravanan ",
         "Murugan",
         "Saravanan  Murugan"
        ],
        [
         "34",
         "Sebastian",
         "Frohm",
         "Sebastian Frohm"
        ],
        [
         "35",
         "Sunny",
         "Zanchi",
         "Sunny Zanchi"
        ]
       ],
       "shape": {
        "columns": 3,
        "rows": 36
       }
      },
      "text/html": [
       "<div>\n",
       "<style scoped>\n",
       "    .dataframe tbody tr th:only-of-type {\n",
       "        vertical-align: middle;\n",
       "    }\n",
       "\n",
       "    .dataframe tbody tr th {\n",
       "        vertical-align: top;\n",
       "    }\n",
       "\n",
       "    .dataframe thead th {\n",
       "        text-align: right;\n",
       "    }\n",
       "</style>\n",
       "<table border=\"1\" class=\"dataframe\">\n",
       "  <thead>\n",
       "    <tr style=\"text-align: right;\">\n",
       "      <th></th>\n",
       "      <th>First Name</th>\n",
       "      <th>Last Name</th>\n",
       "      <th>Full Name</th>\n",
       "    </tr>\n",
       "  </thead>\n",
       "  <tbody>\n",
       "    <tr>\n",
       "      <th>0</th>\n",
       "      <td>Alex</td>\n",
       "      <td>D</td>\n",
       "      <td>Alex D</td>\n",
       "    </tr>\n",
       "    <tr>\n",
       "      <th>1</th>\n",
       "      <td>Annaleya</td>\n",
       "      <td>Hamilton</td>\n",
       "      <td>Annaleya Hamilton</td>\n",
       "    </tr>\n",
       "    <tr>\n",
       "      <th>2</th>\n",
       "      <td>Austin</td>\n",
       "      <td>Reading</td>\n",
       "      <td>Austin Reading</td>\n",
       "    </tr>\n",
       "    <tr>\n",
       "      <th>3</th>\n",
       "      <td>Barbara</td>\n",
       "      <td>Adkins</td>\n",
       "      <td>Barbara Adkins</td>\n",
       "    </tr>\n",
       "    <tr>\n",
       "      <th>4</th>\n",
       "      <td>Bill</td>\n",
       "      <td>Montgomery</td>\n",
       "      <td>Bill Montgomery</td>\n",
       "    </tr>\n",
       "    <tr>\n",
       "      <th>5</th>\n",
       "      <td>Blare</td>\n",
       "      <td>Robinson</td>\n",
       "      <td>Blare Robinson</td>\n",
       "    </tr>\n",
       "    <tr>\n",
       "      <th>6</th>\n",
       "      <td>Chris</td>\n",
       "      <td>Metcalfe</td>\n",
       "      <td>Chris Metcalfe</td>\n",
       "    </tr>\n",
       "    <tr>\n",
       "      <th>7</th>\n",
       "      <td>Chris</td>\n",
       "      <td>Kaelin</td>\n",
       "      <td>Chris  Kaelin</td>\n",
       "    </tr>\n",
       "    <tr>\n",
       "      <th>8</th>\n",
       "      <td>Christina</td>\n",
       "      <td>Porter</td>\n",
       "      <td>Christina Porter</td>\n",
       "    </tr>\n",
       "    <tr>\n",
       "      <th>9</th>\n",
       "      <td>Cody</td>\n",
       "      <td>Miller</td>\n",
       "      <td>Cody Miller</td>\n",
       "    </tr>\n",
       "    <tr>\n",
       "      <th>10</th>\n",
       "      <td>Craig</td>\n",
       "      <td>Geil</td>\n",
       "      <td>Craig Geil</td>\n",
       "    </tr>\n",
       "    <tr>\n",
       "      <th>11</th>\n",
       "      <td>David</td>\n",
       "      <td>Brundage</td>\n",
       "      <td>David   Brundage</td>\n",
       "    </tr>\n",
       "    <tr>\n",
       "      <th>12</th>\n",
       "      <td>David</td>\n",
       "      <td>Dieruf</td>\n",
       "      <td>David   Dieruf</td>\n",
       "    </tr>\n",
       "    <tr>\n",
       "      <th>13</th>\n",
       "      <td>Elizabeth</td>\n",
       "      <td>George</td>\n",
       "      <td>Elizabeth George</td>\n",
       "    </tr>\n",
       "    <tr>\n",
       "      <th>14</th>\n",
       "      <td>Elizabeth</td>\n",
       "      <td>Hahn</td>\n",
       "      <td>Elizabeth Hahn</td>\n",
       "    </tr>\n",
       "    <tr>\n",
       "      <th>15</th>\n",
       "      <td>Euclides</td>\n",
       "      <td>Vezga</td>\n",
       "      <td>Euclides Vezga</td>\n",
       "    </tr>\n",
       "    <tr>\n",
       "      <th>16</th>\n",
       "      <td>Jake</td>\n",
       "      <td>St Germain</td>\n",
       "      <td>Jake St Germain</td>\n",
       "    </tr>\n",
       "    <tr>\n",
       "      <th>17</th>\n",
       "      <td>Jake</td>\n",
       "      <td>Sexton</td>\n",
       "      <td>Jake Sexton</td>\n",
       "    </tr>\n",
       "    <tr>\n",
       "      <th>18</th>\n",
       "      <td>John</td>\n",
       "      <td>Stokes</td>\n",
       "      <td>John Stokes</td>\n",
       "    </tr>\n",
       "    <tr>\n",
       "      <th>19</th>\n",
       "      <td>Justin</td>\n",
       "      <td>Schuhmann</td>\n",
       "      <td>Justin Schuhmann</td>\n",
       "    </tr>\n",
       "    <tr>\n",
       "      <th>20</th>\n",
       "      <td>Ken</td>\n",
       "      <td>Quiggins</td>\n",
       "      <td>Ken Quiggins</td>\n",
       "    </tr>\n",
       "    <tr>\n",
       "      <th>21</th>\n",
       "      <td>Lawrence</td>\n",
       "      <td>Caudle</td>\n",
       "      <td>Lawrence Caudle</td>\n",
       "    </tr>\n",
       "    <tr>\n",
       "      <th>22</th>\n",
       "      <td>Liz</td>\n",
       "      <td>Hahn</td>\n",
       "      <td>Liz Hahn</td>\n",
       "    </tr>\n",
       "    <tr>\n",
       "      <th>23</th>\n",
       "      <td>Matt</td>\n",
       "      <td>Harvey</td>\n",
       "      <td>Matt Harvey</td>\n",
       "    </tr>\n",
       "    <tr>\n",
       "      <th>24</th>\n",
       "      <td>Matt</td>\n",
       "      <td>Deshon</td>\n",
       "      <td>Matt Deshon</td>\n",
       "    </tr>\n",
       "    <tr>\n",
       "      <th>25</th>\n",
       "      <td>Michael</td>\n",
       "      <td>Puckett</td>\n",
       "      <td>Michael Puckett</td>\n",
       "    </tr>\n",
       "    <tr>\n",
       "      <th>26</th>\n",
       "      <td>Mostafa</td>\n",
       "      <td>Nabieh</td>\n",
       "      <td>Mostafa   Nabieh</td>\n",
       "    </tr>\n",
       "    <tr>\n",
       "      <th>27</th>\n",
       "      <td>Nick</td>\n",
       "      <td>Swinford</td>\n",
       "      <td>Nick Swinford</td>\n",
       "    </tr>\n",
       "    <tr>\n",
       "      <th>28</th>\n",
       "      <td>Radmila</td>\n",
       "      <td>Unknown</td>\n",
       "      <td>Radmila Unknown</td>\n",
       "    </tr>\n",
       "    <tr>\n",
       "      <th>29</th>\n",
       "      <td>Rama</td>\n",
       "      <td>Kattunga</td>\n",
       "      <td>Rama Kattunga</td>\n",
       "    </tr>\n",
       "    <tr>\n",
       "      <th>30</th>\n",
       "      <td>Reddy</td>\n",
       "      <td>Praveena</td>\n",
       "      <td>Reddy Praveena</td>\n",
       "    </tr>\n",
       "    <tr>\n",
       "      <th>31</th>\n",
       "      <td>Robert</td>\n",
       "      <td>York</td>\n",
       "      <td>Robert York</td>\n",
       "    </tr>\n",
       "    <tr>\n",
       "      <th>32</th>\n",
       "      <td>Ryan</td>\n",
       "      <td>Thompson</td>\n",
       "      <td>Ryan   Thompson</td>\n",
       "    </tr>\n",
       "    <tr>\n",
       "      <th>33</th>\n",
       "      <td>Saravanan</td>\n",
       "      <td>Murugan</td>\n",
       "      <td>Saravanan  Murugan</td>\n",
       "    </tr>\n",
       "    <tr>\n",
       "      <th>34</th>\n",
       "      <td>Sebastian</td>\n",
       "      <td>Frohm</td>\n",
       "      <td>Sebastian Frohm</td>\n",
       "    </tr>\n",
       "    <tr>\n",
       "      <th>35</th>\n",
       "      <td>Sunny</td>\n",
       "      <td>Zanchi</td>\n",
       "      <td>Sunny Zanchi</td>\n",
       "    </tr>\n",
       "  </tbody>\n",
       "</table>\n",
       "</div>"
      ],
      "text/plain": [
       "    First Name   Last Name           Full Name\n",
       "0         Alex           D              Alex D\n",
       "1     Annaleya    Hamilton   Annaleya Hamilton\n",
       "2       Austin     Reading      Austin Reading\n",
       "3      Barbara      Adkins      Barbara Adkins\n",
       "4         Bill  Montgomery     Bill Montgomery\n",
       "5        Blare    Robinson      Blare Robinson\n",
       "6        Chris    Metcalfe      Chris Metcalfe\n",
       "7       Chris       Kaelin       Chris  Kaelin\n",
       "8    Christina      Porter    Christina Porter\n",
       "9         Cody      Miller         Cody Miller\n",
       "10       Craig        Geil          Craig Geil\n",
       "11     David      Brundage    David   Brundage\n",
       "12     David        Dieruf      David   Dieruf\n",
       "13   Elizabeth      George    Elizabeth George\n",
       "14   Elizabeth        Hahn      Elizabeth Hahn\n",
       "15    Euclides       Vezga      Euclides Vezga\n",
       "16        Jake  St Germain     Jake St Germain\n",
       "17        Jake      Sexton         Jake Sexton\n",
       "18        John      Stokes         John Stokes\n",
       "19      Justin   Schuhmann    Justin Schuhmann\n",
       "20         Ken    Quiggins        Ken Quiggins\n",
       "21    Lawrence      Caudle     Lawrence Caudle\n",
       "22         Liz        Hahn            Liz Hahn\n",
       "23        Matt      Harvey         Matt Harvey\n",
       "24        Matt      Deshon         Matt Deshon\n",
       "25     Michael     Puckett     Michael Puckett\n",
       "26   Mostafa        Nabieh    Mostafa   Nabieh\n",
       "27        Nick    Swinford       Nick Swinford\n",
       "28     Radmila     Unknown     Radmila Unknown\n",
       "29        Rama    Kattunga       Rama Kattunga\n",
       "30       Reddy    Praveena      Reddy Praveena\n",
       "31      Robert        York         Robert York\n",
       "32      Ryan      Thompson     Ryan   Thompson\n",
       "33  Saravanan      Murugan  Saravanan  Murugan\n",
       "34   Sebastian       Frohm     Sebastian Frohm\n",
       "35       Sunny      Zanchi        Sunny Zanchi"
      ]
     },
     "execution_count": 20,
     "metadata": {},
     "output_type": "execute_result"
    }
   ],
   "source": [
    "mentor_list = clean_name_df(mentor_df)\n",
    "mentor_list"
   ]
  },
  {
   "cell_type": "code",
   "execution_count": 21,
   "id": "74a3b369",
   "metadata": {},
   "outputs": [
    {
     "data": {
      "application/vnd.microsoft.datawrangler.viewer.v0+json": {
       "columns": [
        {
         "name": "index",
         "rawType": "int64",
         "type": "integer"
        },
        {
         "name": "First name",
         "rawType": "object",
         "type": "string"
        },
        {
         "name": "Last name",
         "rawType": "object",
         "type": "string"
        },
        {
         "name": "Email",
         "rawType": "object",
         "type": "string"
        },
        {
         "name": "Duration",
         "rawType": "object",
         "type": "string"
        },
        {
         "name": "Time joined",
         "rawType": "object",
         "type": "string"
        },
        {
         "name": "Time exited",
         "rawType": "object",
         "type": "string"
        }
       ],
       "ref": "d1a5bff9-9e54-4b4e-af0f-4e03144dcf0c",
       "rows": [
        [
         "0",
         "Alex",
         "D",
         "awda*****@***.com",
         "2 hr 25 min",
         "6:01 PM",
         "8:26 PM"
        ],
        [
         "1",
         "Angela",
         "Moore",
         "ange*************@***.com",
         "2 hr 29 min",
         "5:59 PM",
         "8:27 PM"
        ],
        [
         "2",
         "Bill",
         "Montgomery",
         "kyho***@***.com",
         "2 hr 27 min",
         "5:59 PM",
         "8:26 PM"
        ],
        [
         "3",
         "Charles",
         "Norman",
         "ario****@***.com",
         "2 hr 42 min",
         "5:45 PM",
         "8:27 PM"
        ],
        [
         "4",
         "Christina",
         "Porter",
         "chri**************@***.com",
         "2 hr 4 min",
         "6:15 PM",
         "8:19 PM"
        ],
        [
         "5",
         "Cindy",
         "Wedding",
         "cwed*******@***.com",
         "2 hr 22 min",
         "6:03 PM",
         "8:25 PM"
        ],
        [
         "6",
         "Classroom",
         "Admin",
         "classroom@codeyou.org",
         "1 min",
         "5:59 PM",
         "6:00 PM"
        ],
        [
         "7",
         "Joel",
         "Anderson",
         "joel*************@***.com",
         "2 hr 27 min",
         "6:00 PM",
         "8:27 PM"
        ],
        [
         "8",
         "Jonathan",
         "Chadwell",
         "jona*******************@***.com",
         "2 hr 24 min",
         "6:02 PM",
         "8:26 PM"
        ],
        [
         "9",
         "Mendell",
         "M",
         "menm****@***.com",
         "1 hr 58 min",
         "6:00 PM",
         "8:00 PM"
        ],
        [
         "10",
         "Oli",
         "Ivanova",
         "olga************@***.com",
         "2 hr 14 min",
         "5:59 PM",
         "8:13 PM"
        ],
        [
         "11",
         "S.",
         "Byrnes",
         "smby***@***.com",
         "1 hr 58 min",
         "6:02 PM",
         "8:00 PM"
        ],
        [
         "12",
         "Tara Leigh",
         "Hylton",
         "turr******@***.com",
         "2 hr 5 min",
         "6:01 PM",
         "8:06 PM"
        ],
        [
         "13",
         "Whitney",
         "Parks",
         "wypa*****@***.com",
         "2 hr 38 min",
         "6:01 PM",
         "8:39 PM"
        ],
        [
         "14",
         "Zachary",
         "Young",
         "zach*************@***.com",
         "2 hr 6 min",
         "5:54 PM",
         "8:00 PM"
        ],
        [
         "15",
         "Zhenzhen",
         "Xie",
         "xzz.**********@***.com",
         "2 hr 24 min",
         "6:01 PM",
         "8:26 PM"
        ]
       ],
       "shape": {
        "columns": 6,
        "rows": 16
       }
      },
      "text/html": [
       "<div>\n",
       "<style scoped>\n",
       "    .dataframe tbody tr th:only-of-type {\n",
       "        vertical-align: middle;\n",
       "    }\n",
       "\n",
       "    .dataframe tbody tr th {\n",
       "        vertical-align: top;\n",
       "    }\n",
       "\n",
       "    .dataframe thead th {\n",
       "        text-align: right;\n",
       "    }\n",
       "</style>\n",
       "<table border=\"1\" class=\"dataframe\">\n",
       "  <thead>\n",
       "    <tr style=\"text-align: right;\">\n",
       "      <th></th>\n",
       "      <th>First name</th>\n",
       "      <th>Last name</th>\n",
       "      <th>Email</th>\n",
       "      <th>Duration</th>\n",
       "      <th>Time joined</th>\n",
       "      <th>Time exited</th>\n",
       "    </tr>\n",
       "  </thead>\n",
       "  <tbody>\n",
       "    <tr>\n",
       "      <th>0</th>\n",
       "      <td>Alex</td>\n",
       "      <td>D</td>\n",
       "      <td>awda*****@***.com</td>\n",
       "      <td>2 hr 25 min</td>\n",
       "      <td>6:01 PM</td>\n",
       "      <td>8:26 PM</td>\n",
       "    </tr>\n",
       "    <tr>\n",
       "      <th>1</th>\n",
       "      <td>Angela</td>\n",
       "      <td>Moore</td>\n",
       "      <td>ange*************@***.com</td>\n",
       "      <td>2 hr 29 min</td>\n",
       "      <td>5:59 PM</td>\n",
       "      <td>8:27 PM</td>\n",
       "    </tr>\n",
       "    <tr>\n",
       "      <th>2</th>\n",
       "      <td>Bill</td>\n",
       "      <td>Montgomery</td>\n",
       "      <td>kyho***@***.com</td>\n",
       "      <td>2 hr 27 min</td>\n",
       "      <td>5:59 PM</td>\n",
       "      <td>8:26 PM</td>\n",
       "    </tr>\n",
       "    <tr>\n",
       "      <th>3</th>\n",
       "      <td>Charles</td>\n",
       "      <td>Norman</td>\n",
       "      <td>ario****@***.com</td>\n",
       "      <td>2 hr 42 min</td>\n",
       "      <td>5:45 PM</td>\n",
       "      <td>8:27 PM</td>\n",
       "    </tr>\n",
       "    <tr>\n",
       "      <th>4</th>\n",
       "      <td>Christina</td>\n",
       "      <td>Porter</td>\n",
       "      <td>chri**************@***.com</td>\n",
       "      <td>2 hr 4 min</td>\n",
       "      <td>6:15 PM</td>\n",
       "      <td>8:19 PM</td>\n",
       "    </tr>\n",
       "    <tr>\n",
       "      <th>5</th>\n",
       "      <td>Cindy</td>\n",
       "      <td>Wedding</td>\n",
       "      <td>cwed*******@***.com</td>\n",
       "      <td>2 hr 22 min</td>\n",
       "      <td>6:03 PM</td>\n",
       "      <td>8:25 PM</td>\n",
       "    </tr>\n",
       "    <tr>\n",
       "      <th>6</th>\n",
       "      <td>Classroom</td>\n",
       "      <td>Admin</td>\n",
       "      <td>classroom@codeyou.org</td>\n",
       "      <td>1 min</td>\n",
       "      <td>5:59 PM</td>\n",
       "      <td>6:00 PM</td>\n",
       "    </tr>\n",
       "    <tr>\n",
       "      <th>7</th>\n",
       "      <td>Joel</td>\n",
       "      <td>Anderson</td>\n",
       "      <td>joel*************@***.com</td>\n",
       "      <td>2 hr 27 min</td>\n",
       "      <td>6:00 PM</td>\n",
       "      <td>8:27 PM</td>\n",
       "    </tr>\n",
       "    <tr>\n",
       "      <th>8</th>\n",
       "      <td>Jonathan</td>\n",
       "      <td>Chadwell</td>\n",
       "      <td>jona*******************@***.com</td>\n",
       "      <td>2 hr 24 min</td>\n",
       "      <td>6:02 PM</td>\n",
       "      <td>8:26 PM</td>\n",
       "    </tr>\n",
       "    <tr>\n",
       "      <th>9</th>\n",
       "      <td>Mendell</td>\n",
       "      <td>M</td>\n",
       "      <td>menm****@***.com</td>\n",
       "      <td>1 hr 58 min</td>\n",
       "      <td>6:00 PM</td>\n",
       "      <td>8:00 PM</td>\n",
       "    </tr>\n",
       "    <tr>\n",
       "      <th>10</th>\n",
       "      <td>Oli</td>\n",
       "      <td>Ivanova</td>\n",
       "      <td>olga************@***.com</td>\n",
       "      <td>2 hr 14 min</td>\n",
       "      <td>5:59 PM</td>\n",
       "      <td>8:13 PM</td>\n",
       "    </tr>\n",
       "    <tr>\n",
       "      <th>11</th>\n",
       "      <td>S.</td>\n",
       "      <td>Byrnes</td>\n",
       "      <td>smby***@***.com</td>\n",
       "      <td>1 hr 58 min</td>\n",
       "      <td>6:02 PM</td>\n",
       "      <td>8:00 PM</td>\n",
       "    </tr>\n",
       "    <tr>\n",
       "      <th>12</th>\n",
       "      <td>Tara Leigh</td>\n",
       "      <td>Hylton</td>\n",
       "      <td>turr******@***.com</td>\n",
       "      <td>2 hr 5 min</td>\n",
       "      <td>6:01 PM</td>\n",
       "      <td>8:06 PM</td>\n",
       "    </tr>\n",
       "    <tr>\n",
       "      <th>13</th>\n",
       "      <td>Whitney</td>\n",
       "      <td>Parks</td>\n",
       "      <td>wypa*****@***.com</td>\n",
       "      <td>2 hr 38 min</td>\n",
       "      <td>6:01 PM</td>\n",
       "      <td>8:39 PM</td>\n",
       "    </tr>\n",
       "    <tr>\n",
       "      <th>14</th>\n",
       "      <td>Zachary</td>\n",
       "      <td>Young</td>\n",
       "      <td>zach*************@***.com</td>\n",
       "      <td>2 hr 6 min</td>\n",
       "      <td>5:54 PM</td>\n",
       "      <td>8:00 PM</td>\n",
       "    </tr>\n",
       "    <tr>\n",
       "      <th>15</th>\n",
       "      <td>Zhenzhen</td>\n",
       "      <td>Xie</td>\n",
       "      <td>xzz.**********@***.com</td>\n",
       "      <td>2 hr 24 min</td>\n",
       "      <td>6:01 PM</td>\n",
       "      <td>8:26 PM</td>\n",
       "    </tr>\n",
       "  </tbody>\n",
       "</table>\n",
       "</div>"
      ],
      "text/plain": [
       "    First name   Last name                            Email     Duration  \\\n",
       "0         Alex           D                awda*****@***.com  2 hr 25 min   \n",
       "1       Angela       Moore        ange*************@***.com  2 hr 29 min   \n",
       "2         Bill  Montgomery                  kyho***@***.com  2 hr 27 min   \n",
       "3      Charles      Norman                 ario****@***.com  2 hr 42 min   \n",
       "4    Christina      Porter       chri**************@***.com   2 hr 4 min   \n",
       "5        Cindy     Wedding              cwed*******@***.com  2 hr 22 min   \n",
       "6    Classroom       Admin            classroom@codeyou.org        1 min   \n",
       "7         Joel    Anderson        joel*************@***.com  2 hr 27 min   \n",
       "8     Jonathan    Chadwell  jona*******************@***.com  2 hr 24 min   \n",
       "9      Mendell           M                 menm****@***.com  1 hr 58 min   \n",
       "10         Oli     Ivanova         olga************@***.com  2 hr 14 min   \n",
       "11          S.      Byrnes                  smby***@***.com  1 hr 58 min   \n",
       "12  Tara Leigh      Hylton               turr******@***.com   2 hr 5 min   \n",
       "13     Whitney       Parks                wypa*****@***.com  2 hr 38 min   \n",
       "14     Zachary       Young        zach*************@***.com   2 hr 6 min   \n",
       "15    Zhenzhen         Xie           xzz.**********@***.com  2 hr 24 min   \n",
       "\n",
       "   Time joined Time exited  \n",
       "0      6:01 PM     8:26 PM  \n",
       "1      5:59 PM     8:27 PM  \n",
       "2      5:59 PM     8:26 PM  \n",
       "3      5:45 PM     8:27 PM  \n",
       "4      6:15 PM     8:19 PM  \n",
       "5      6:03 PM     8:25 PM  \n",
       "6      5:59 PM     6:00 PM  \n",
       "7      6:00 PM     8:27 PM  \n",
       "8      6:02 PM     8:26 PM  \n",
       "9      6:00 PM     8:00 PM  \n",
       "10     5:59 PM     8:13 PM  \n",
       "11     6:02 PM     8:00 PM  \n",
       "12     6:01 PM     8:06 PM  \n",
       "13     6:01 PM     8:39 PM  \n",
       "14     5:54 PM     8:00 PM  \n",
       "15     6:01 PM     8:26 PM  "
      ]
     },
     "execution_count": 21,
     "metadata": {},
     "output_type": "execute_result"
    }
   ],
   "source": [
    "meeting_1"
   ]
  },
  {
   "cell_type": "code",
   "execution_count": 22,
   "id": "00cc7690",
   "metadata": {},
   "outputs": [
    {
     "data": {
      "application/vnd.microsoft.datawrangler.viewer.v0+json": {
       "columns": [
        {
         "name": "index",
         "rawType": "int64",
         "type": "integer"
        },
        {
         "name": "First Name",
         "rawType": "object",
         "type": "string"
        },
        {
         "name": "Last Name",
         "rawType": "object",
         "type": "string"
        },
        {
         "name": "Email",
         "rawType": "object",
         "type": "string"
        },
        {
         "name": "Duration",
         "rawType": "object",
         "type": "string"
        },
        {
         "name": "Time Joined",
         "rawType": "datetime64[ns]",
         "type": "datetime"
        },
        {
         "name": "Time Exited",
         "rawType": "datetime64[ns]",
         "type": "datetime"
        },
        {
         "name": "Duration In Minutes",
         "rawType": "float64",
         "type": "float"
        },
        {
         "name": "Full Name",
         "rawType": "object",
         "type": "string"
        }
       ],
       "ref": "754c2fbc-16f7-41cc-9518-53bdb23fd325",
       "rows": [
        [
         "0",
         "Alex",
         "D",
         "awda*****@***.com",
         "2 hr 25 min",
         "1900-01-01 18:01:00",
         "1900-01-01 20:26:00",
         "145.0",
         "Alex D"
        ],
        [
         "1",
         "Angela",
         "Moore",
         "ange*************@***.com",
         "2 hr 29 min",
         "1900-01-01 17:59:00",
         "1900-01-01 20:27:00",
         "148.0",
         "Angela Moore"
        ],
        [
         "2",
         "Bill",
         "Montgomery",
         "kyho***@***.com",
         "2 hr 27 min",
         "1900-01-01 17:59:00",
         "1900-01-01 20:26:00",
         "147.0",
         "Bill Montgomery"
        ],
        [
         "3",
         "Charles",
         "Norman",
         "ario****@***.com",
         "2 hr 42 min",
         "1900-01-01 17:45:00",
         "1900-01-01 20:27:00",
         "162.0",
         "Charles Norman"
        ],
        [
         "4",
         "Christina",
         "Porter",
         "chri**************@***.com",
         "2 hr 4 min",
         "1900-01-01 18:15:00",
         "1900-01-01 20:19:00",
         "124.0",
         "Christina Porter"
        ],
        [
         "5",
         "Cindy",
         "Wedding",
         "cwed*******@***.com",
         "2 hr 22 min",
         "1900-01-01 18:03:00",
         "1900-01-01 20:25:00",
         "142.0",
         "Cindy Wedding"
        ],
        [
         "6",
         "Classroom",
         "Admin",
         "classroom@codeyou.org",
         "1 min",
         "1900-01-01 17:59:00",
         "1900-01-01 18:00:00",
         "1.0",
         "Classroom Admin"
        ],
        [
         "7",
         "Joel",
         "Anderson",
         "joel*************@***.com",
         "2 hr 27 min",
         "1900-01-01 18:00:00",
         "1900-01-01 20:27:00",
         "147.0",
         "Joel Anderson"
        ],
        [
         "8",
         "Jonathan",
         "Chadwell",
         "jona*******************@***.com",
         "2 hr 24 min",
         "1900-01-01 18:02:00",
         "1900-01-01 20:26:00",
         "144.0",
         "Jonathan Chadwell"
        ],
        [
         "9",
         "Mendell",
         "M",
         "menm****@***.com",
         "1 hr 58 min",
         "1900-01-01 18:00:00",
         "1900-01-01 20:00:00",
         "120.0",
         "Mendell M"
        ],
        [
         "10",
         "Oli",
         "Ivanova",
         "olga************@***.com",
         "2 hr 14 min",
         "1900-01-01 17:59:00",
         "1900-01-01 20:13:00",
         "134.0",
         "Oli Ivanova"
        ],
        [
         "11",
         "S.",
         "Byrnes",
         "smby***@***.com",
         "1 hr 58 min",
         "1900-01-01 18:02:00",
         "1900-01-01 20:00:00",
         "118.0",
         "S. Byrnes"
        ],
        [
         "12",
         "Tara Leigh",
         "Hylton",
         "turr******@***.com",
         "2 hr 5 min",
         "1900-01-01 18:01:00",
         "1900-01-01 20:06:00",
         "125.0",
         "Tara Leigh Hylton"
        ],
        [
         "13",
         "Whitney",
         "Parks",
         "wypa*****@***.com",
         "2 hr 38 min",
         "1900-01-01 18:01:00",
         "1900-01-01 20:39:00",
         "158.0",
         "Whitney Parks"
        ],
        [
         "14",
         "Zachary",
         "Young",
         "zach*************@***.com",
         "2 hr 6 min",
         "1900-01-01 17:54:00",
         "1900-01-01 20:00:00",
         "126.0",
         "Zachary Young"
        ],
        [
         "15",
         "Zhenzhen",
         "Xie",
         "xzz.**********@***.com",
         "2 hr 24 min",
         "1900-01-01 18:01:00",
         "1900-01-01 20:26:00",
         "145.0",
         "Zhenzhen Xie"
        ]
       ],
       "shape": {
        "columns": 8,
        "rows": 16
       }
      },
      "text/html": [
       "<div>\n",
       "<style scoped>\n",
       "    .dataframe tbody tr th:only-of-type {\n",
       "        vertical-align: middle;\n",
       "    }\n",
       "\n",
       "    .dataframe tbody tr th {\n",
       "        vertical-align: top;\n",
       "    }\n",
       "\n",
       "    .dataframe thead th {\n",
       "        text-align: right;\n",
       "    }\n",
       "</style>\n",
       "<table border=\"1\" class=\"dataframe\">\n",
       "  <thead>\n",
       "    <tr style=\"text-align: right;\">\n",
       "      <th></th>\n",
       "      <th>First Name</th>\n",
       "      <th>Last Name</th>\n",
       "      <th>Email</th>\n",
       "      <th>Duration</th>\n",
       "      <th>Time Joined</th>\n",
       "      <th>Time Exited</th>\n",
       "      <th>Duration In Minutes</th>\n",
       "      <th>Full Name</th>\n",
       "    </tr>\n",
       "  </thead>\n",
       "  <tbody>\n",
       "    <tr>\n",
       "      <th>0</th>\n",
       "      <td>Alex</td>\n",
       "      <td>D</td>\n",
       "      <td>awda*****@***.com</td>\n",
       "      <td>2 hr 25 min</td>\n",
       "      <td>1900-01-01 18:01:00</td>\n",
       "      <td>1900-01-01 20:26:00</td>\n",
       "      <td>145.0</td>\n",
       "      <td>Alex D</td>\n",
       "    </tr>\n",
       "    <tr>\n",
       "      <th>1</th>\n",
       "      <td>Angela</td>\n",
       "      <td>Moore</td>\n",
       "      <td>ange*************@***.com</td>\n",
       "      <td>2 hr 29 min</td>\n",
       "      <td>1900-01-01 17:59:00</td>\n",
       "      <td>1900-01-01 20:27:00</td>\n",
       "      <td>148.0</td>\n",
       "      <td>Angela Moore</td>\n",
       "    </tr>\n",
       "    <tr>\n",
       "      <th>2</th>\n",
       "      <td>Bill</td>\n",
       "      <td>Montgomery</td>\n",
       "      <td>kyho***@***.com</td>\n",
       "      <td>2 hr 27 min</td>\n",
       "      <td>1900-01-01 17:59:00</td>\n",
       "      <td>1900-01-01 20:26:00</td>\n",
       "      <td>147.0</td>\n",
       "      <td>Bill Montgomery</td>\n",
       "    </tr>\n",
       "    <tr>\n",
       "      <th>3</th>\n",
       "      <td>Charles</td>\n",
       "      <td>Norman</td>\n",
       "      <td>ario****@***.com</td>\n",
       "      <td>2 hr 42 min</td>\n",
       "      <td>1900-01-01 17:45:00</td>\n",
       "      <td>1900-01-01 20:27:00</td>\n",
       "      <td>162.0</td>\n",
       "      <td>Charles Norman</td>\n",
       "    </tr>\n",
       "    <tr>\n",
       "      <th>4</th>\n",
       "      <td>Christina</td>\n",
       "      <td>Porter</td>\n",
       "      <td>chri**************@***.com</td>\n",
       "      <td>2 hr 4 min</td>\n",
       "      <td>1900-01-01 18:15:00</td>\n",
       "      <td>1900-01-01 20:19:00</td>\n",
       "      <td>124.0</td>\n",
       "      <td>Christina Porter</td>\n",
       "    </tr>\n",
       "    <tr>\n",
       "      <th>5</th>\n",
       "      <td>Cindy</td>\n",
       "      <td>Wedding</td>\n",
       "      <td>cwed*******@***.com</td>\n",
       "      <td>2 hr 22 min</td>\n",
       "      <td>1900-01-01 18:03:00</td>\n",
       "      <td>1900-01-01 20:25:00</td>\n",
       "      <td>142.0</td>\n",
       "      <td>Cindy Wedding</td>\n",
       "    </tr>\n",
       "    <tr>\n",
       "      <th>6</th>\n",
       "      <td>Classroom</td>\n",
       "      <td>Admin</td>\n",
       "      <td>classroom@codeyou.org</td>\n",
       "      <td>1 min</td>\n",
       "      <td>1900-01-01 17:59:00</td>\n",
       "      <td>1900-01-01 18:00:00</td>\n",
       "      <td>1.0</td>\n",
       "      <td>Classroom Admin</td>\n",
       "    </tr>\n",
       "    <tr>\n",
       "      <th>7</th>\n",
       "      <td>Joel</td>\n",
       "      <td>Anderson</td>\n",
       "      <td>joel*************@***.com</td>\n",
       "      <td>2 hr 27 min</td>\n",
       "      <td>1900-01-01 18:00:00</td>\n",
       "      <td>1900-01-01 20:27:00</td>\n",
       "      <td>147.0</td>\n",
       "      <td>Joel Anderson</td>\n",
       "    </tr>\n",
       "    <tr>\n",
       "      <th>8</th>\n",
       "      <td>Jonathan</td>\n",
       "      <td>Chadwell</td>\n",
       "      <td>jona*******************@***.com</td>\n",
       "      <td>2 hr 24 min</td>\n",
       "      <td>1900-01-01 18:02:00</td>\n",
       "      <td>1900-01-01 20:26:00</td>\n",
       "      <td>144.0</td>\n",
       "      <td>Jonathan Chadwell</td>\n",
       "    </tr>\n",
       "    <tr>\n",
       "      <th>9</th>\n",
       "      <td>Mendell</td>\n",
       "      <td>M</td>\n",
       "      <td>menm****@***.com</td>\n",
       "      <td>1 hr 58 min</td>\n",
       "      <td>1900-01-01 18:00:00</td>\n",
       "      <td>1900-01-01 20:00:00</td>\n",
       "      <td>120.0</td>\n",
       "      <td>Mendell M</td>\n",
       "    </tr>\n",
       "    <tr>\n",
       "      <th>10</th>\n",
       "      <td>Oli</td>\n",
       "      <td>Ivanova</td>\n",
       "      <td>olga************@***.com</td>\n",
       "      <td>2 hr 14 min</td>\n",
       "      <td>1900-01-01 17:59:00</td>\n",
       "      <td>1900-01-01 20:13:00</td>\n",
       "      <td>134.0</td>\n",
       "      <td>Oli Ivanova</td>\n",
       "    </tr>\n",
       "    <tr>\n",
       "      <th>11</th>\n",
       "      <td>S.</td>\n",
       "      <td>Byrnes</td>\n",
       "      <td>smby***@***.com</td>\n",
       "      <td>1 hr 58 min</td>\n",
       "      <td>1900-01-01 18:02:00</td>\n",
       "      <td>1900-01-01 20:00:00</td>\n",
       "      <td>118.0</td>\n",
       "      <td>S. Byrnes</td>\n",
       "    </tr>\n",
       "    <tr>\n",
       "      <th>12</th>\n",
       "      <td>Tara Leigh</td>\n",
       "      <td>Hylton</td>\n",
       "      <td>turr******@***.com</td>\n",
       "      <td>2 hr 5 min</td>\n",
       "      <td>1900-01-01 18:01:00</td>\n",
       "      <td>1900-01-01 20:06:00</td>\n",
       "      <td>125.0</td>\n",
       "      <td>Tara Leigh Hylton</td>\n",
       "    </tr>\n",
       "    <tr>\n",
       "      <th>13</th>\n",
       "      <td>Whitney</td>\n",
       "      <td>Parks</td>\n",
       "      <td>wypa*****@***.com</td>\n",
       "      <td>2 hr 38 min</td>\n",
       "      <td>1900-01-01 18:01:00</td>\n",
       "      <td>1900-01-01 20:39:00</td>\n",
       "      <td>158.0</td>\n",
       "      <td>Whitney Parks</td>\n",
       "    </tr>\n",
       "    <tr>\n",
       "      <th>14</th>\n",
       "      <td>Zachary</td>\n",
       "      <td>Young</td>\n",
       "      <td>zach*************@***.com</td>\n",
       "      <td>2 hr 6 min</td>\n",
       "      <td>1900-01-01 17:54:00</td>\n",
       "      <td>1900-01-01 20:00:00</td>\n",
       "      <td>126.0</td>\n",
       "      <td>Zachary Young</td>\n",
       "    </tr>\n",
       "    <tr>\n",
       "      <th>15</th>\n",
       "      <td>Zhenzhen</td>\n",
       "      <td>Xie</td>\n",
       "      <td>xzz.**********@***.com</td>\n",
       "      <td>2 hr 24 min</td>\n",
       "      <td>1900-01-01 18:01:00</td>\n",
       "      <td>1900-01-01 20:26:00</td>\n",
       "      <td>145.0</td>\n",
       "      <td>Zhenzhen Xie</td>\n",
       "    </tr>\n",
       "  </tbody>\n",
       "</table>\n",
       "</div>"
      ],
      "text/plain": [
       "    First Name   Last Name                            Email     Duration  \\\n",
       "0         Alex           D                awda*****@***.com  2 hr 25 min   \n",
       "1       Angela       Moore        ange*************@***.com  2 hr 29 min   \n",
       "2         Bill  Montgomery                  kyho***@***.com  2 hr 27 min   \n",
       "3      Charles      Norman                 ario****@***.com  2 hr 42 min   \n",
       "4    Christina      Porter       chri**************@***.com   2 hr 4 min   \n",
       "5        Cindy     Wedding              cwed*******@***.com  2 hr 22 min   \n",
       "6    Classroom       Admin            classroom@codeyou.org        1 min   \n",
       "7         Joel    Anderson        joel*************@***.com  2 hr 27 min   \n",
       "8     Jonathan    Chadwell  jona*******************@***.com  2 hr 24 min   \n",
       "9      Mendell           M                 menm****@***.com  1 hr 58 min   \n",
       "10         Oli     Ivanova         olga************@***.com  2 hr 14 min   \n",
       "11          S.      Byrnes                  smby***@***.com  1 hr 58 min   \n",
       "12  Tara Leigh      Hylton               turr******@***.com   2 hr 5 min   \n",
       "13     Whitney       Parks                wypa*****@***.com  2 hr 38 min   \n",
       "14     Zachary       Young        zach*************@***.com   2 hr 6 min   \n",
       "15    Zhenzhen         Xie           xzz.**********@***.com  2 hr 24 min   \n",
       "\n",
       "           Time Joined         Time Exited  Duration In Minutes  \\\n",
       "0  1900-01-01 18:01:00 1900-01-01 20:26:00                145.0   \n",
       "1  1900-01-01 17:59:00 1900-01-01 20:27:00                148.0   \n",
       "2  1900-01-01 17:59:00 1900-01-01 20:26:00                147.0   \n",
       "3  1900-01-01 17:45:00 1900-01-01 20:27:00                162.0   \n",
       "4  1900-01-01 18:15:00 1900-01-01 20:19:00                124.0   \n",
       "5  1900-01-01 18:03:00 1900-01-01 20:25:00                142.0   \n",
       "6  1900-01-01 17:59:00 1900-01-01 18:00:00                  1.0   \n",
       "7  1900-01-01 18:00:00 1900-01-01 20:27:00                147.0   \n",
       "8  1900-01-01 18:02:00 1900-01-01 20:26:00                144.0   \n",
       "9  1900-01-01 18:00:00 1900-01-01 20:00:00                120.0   \n",
       "10 1900-01-01 17:59:00 1900-01-01 20:13:00                134.0   \n",
       "11 1900-01-01 18:02:00 1900-01-01 20:00:00                118.0   \n",
       "12 1900-01-01 18:01:00 1900-01-01 20:06:00                125.0   \n",
       "13 1900-01-01 18:01:00 1900-01-01 20:39:00                158.0   \n",
       "14 1900-01-01 17:54:00 1900-01-01 20:00:00                126.0   \n",
       "15 1900-01-01 18:01:00 1900-01-01 20:26:00                145.0   \n",
       "\n",
       "            Full Name  \n",
       "0              Alex D  \n",
       "1        Angela Moore  \n",
       "2     Bill Montgomery  \n",
       "3      Charles Norman  \n",
       "4    Christina Porter  \n",
       "5       Cindy Wedding  \n",
       "6     Classroom Admin  \n",
       "7       Joel Anderson  \n",
       "8   Jonathan Chadwell  \n",
       "9           Mendell M  \n",
       "10        Oli Ivanova  \n",
       "11          S. Byrnes  \n",
       "12  Tara Leigh Hylton  \n",
       "13      Whitney Parks  \n",
       "14      Zachary Young  \n",
       "15       Zhenzhen Xie  "
      ]
     },
     "execution_count": 22,
     "metadata": {},
     "output_type": "execute_result"
    }
   ],
   "source": [
    "test = process_meeting_times(meeting_1)\n",
    "test = add_full_name(test)\n",
    "test"
   ]
  },
  {
   "cell_type": "code",
   "execution_count": 23,
   "id": "838ca4e1",
   "metadata": {},
   "outputs": [],
   "source": [
    "def clean_meeting(df: pd.DataFrame) -> pd.DataFrame:\n",
    "    df = process_meeting_times(df)\n",
    "    df = add_full_name(df)\n",
    "    col_to_keep = ['Full Name', 'Duration In Minutes']\n",
    "    return df[col_to_keep].copy()"
   ]
  },
  {
   "cell_type": "code",
   "execution_count": 24,
   "id": "03fa1b54",
   "metadata": {},
   "outputs": [
    {
     "data": {
      "application/vnd.microsoft.datawrangler.viewer.v0+json": {
       "columns": [
        {
         "name": "index",
         "rawType": "int64",
         "type": "integer"
        },
        {
         "name": "Full Name",
         "rawType": "object",
         "type": "string"
        },
        {
         "name": "Duration In Minutes",
         "rawType": "float64",
         "type": "float"
        }
       ],
       "ref": "0cf2b708-c1d3-43bc-bf65-8f0f3472dcff",
       "rows": [
        [
         "0",
         "Alex D",
         "145.0"
        ],
        [
         "1",
         "Angela Moore",
         "148.0"
        ],
        [
         "2",
         "Bill Montgomery",
         "147.0"
        ],
        [
         "3",
         "Charles Norman",
         "162.0"
        ],
        [
         "4",
         "Christina Porter",
         "124.0"
        ],
        [
         "5",
         "Cindy Wedding",
         "142.0"
        ],
        [
         "6",
         "Classroom Admin",
         "1.0"
        ],
        [
         "7",
         "Joel Anderson",
         "147.0"
        ],
        [
         "8",
         "Jonathan Chadwell",
         "144.0"
        ],
        [
         "9",
         "Mendell M",
         "120.0"
        ],
        [
         "10",
         "Oli Ivanova",
         "134.0"
        ],
        [
         "11",
         "S. Byrnes",
         "118.0"
        ],
        [
         "12",
         "Tara Leigh Hylton",
         "125.0"
        ],
        [
         "13",
         "Whitney Parks",
         "158.0"
        ],
        [
         "14",
         "Zachary Young",
         "126.0"
        ],
        [
         "15",
         "Zhenzhen Xie",
         "145.0"
        ]
       ],
       "shape": {
        "columns": 2,
        "rows": 16
       }
      },
      "text/html": [
       "<div>\n",
       "<style scoped>\n",
       "    .dataframe tbody tr th:only-of-type {\n",
       "        vertical-align: middle;\n",
       "    }\n",
       "\n",
       "    .dataframe tbody tr th {\n",
       "        vertical-align: top;\n",
       "    }\n",
       "\n",
       "    .dataframe thead th {\n",
       "        text-align: right;\n",
       "    }\n",
       "</style>\n",
       "<table border=\"1\" class=\"dataframe\">\n",
       "  <thead>\n",
       "    <tr style=\"text-align: right;\">\n",
       "      <th></th>\n",
       "      <th>Full Name</th>\n",
       "      <th>Duration In Minutes</th>\n",
       "    </tr>\n",
       "  </thead>\n",
       "  <tbody>\n",
       "    <tr>\n",
       "      <th>0</th>\n",
       "      <td>Alex D</td>\n",
       "      <td>145.0</td>\n",
       "    </tr>\n",
       "    <tr>\n",
       "      <th>1</th>\n",
       "      <td>Angela Moore</td>\n",
       "      <td>148.0</td>\n",
       "    </tr>\n",
       "    <tr>\n",
       "      <th>2</th>\n",
       "      <td>Bill Montgomery</td>\n",
       "      <td>147.0</td>\n",
       "    </tr>\n",
       "    <tr>\n",
       "      <th>3</th>\n",
       "      <td>Charles Norman</td>\n",
       "      <td>162.0</td>\n",
       "    </tr>\n",
       "    <tr>\n",
       "      <th>4</th>\n",
       "      <td>Christina Porter</td>\n",
       "      <td>124.0</td>\n",
       "    </tr>\n",
       "    <tr>\n",
       "      <th>5</th>\n",
       "      <td>Cindy Wedding</td>\n",
       "      <td>142.0</td>\n",
       "    </tr>\n",
       "    <tr>\n",
       "      <th>6</th>\n",
       "      <td>Classroom Admin</td>\n",
       "      <td>1.0</td>\n",
       "    </tr>\n",
       "    <tr>\n",
       "      <th>7</th>\n",
       "      <td>Joel Anderson</td>\n",
       "      <td>147.0</td>\n",
       "    </tr>\n",
       "    <tr>\n",
       "      <th>8</th>\n",
       "      <td>Jonathan Chadwell</td>\n",
       "      <td>144.0</td>\n",
       "    </tr>\n",
       "    <tr>\n",
       "      <th>9</th>\n",
       "      <td>Mendell M</td>\n",
       "      <td>120.0</td>\n",
       "    </tr>\n",
       "    <tr>\n",
       "      <th>10</th>\n",
       "      <td>Oli Ivanova</td>\n",
       "      <td>134.0</td>\n",
       "    </tr>\n",
       "    <tr>\n",
       "      <th>11</th>\n",
       "      <td>S. Byrnes</td>\n",
       "      <td>118.0</td>\n",
       "    </tr>\n",
       "    <tr>\n",
       "      <th>12</th>\n",
       "      <td>Tara Leigh Hylton</td>\n",
       "      <td>125.0</td>\n",
       "    </tr>\n",
       "    <tr>\n",
       "      <th>13</th>\n",
       "      <td>Whitney Parks</td>\n",
       "      <td>158.0</td>\n",
       "    </tr>\n",
       "    <tr>\n",
       "      <th>14</th>\n",
       "      <td>Zachary Young</td>\n",
       "      <td>126.0</td>\n",
       "    </tr>\n",
       "    <tr>\n",
       "      <th>15</th>\n",
       "      <td>Zhenzhen Xie</td>\n",
       "      <td>145.0</td>\n",
       "    </tr>\n",
       "  </tbody>\n",
       "</table>\n",
       "</div>"
      ],
      "text/plain": [
       "            Full Name  Duration In Minutes\n",
       "0              Alex D                145.0\n",
       "1        Angela Moore                148.0\n",
       "2     Bill Montgomery                147.0\n",
       "3      Charles Norman                162.0\n",
       "4    Christina Porter                124.0\n",
       "5       Cindy Wedding                142.0\n",
       "6     Classroom Admin                  1.0\n",
       "7       Joel Anderson                147.0\n",
       "8   Jonathan Chadwell                144.0\n",
       "9           Mendell M                120.0\n",
       "10        Oli Ivanova                134.0\n",
       "11          S. Byrnes                118.0\n",
       "12  Tara Leigh Hylton                125.0\n",
       "13      Whitney Parks                158.0\n",
       "14      Zachary Young                126.0\n",
       "15       Zhenzhen Xie                145.0"
      ]
     },
     "execution_count": 24,
     "metadata": {},
     "output_type": "execute_result"
    }
   ],
   "source": [
    "meeting_1_cleaned = clean_meeting(meeting_1)\n",
    "meeting_1_cleaned"
   ]
  },
  {
   "cell_type": "code",
   "execution_count": 25,
   "id": "0edd39e3",
   "metadata": {},
   "outputs": [],
   "source": [
    "def match_meeting_times(clean_list: pd.DataFrame,clean_meeting_time: pd.DataFrame) -> pd.DataFrame:\n",
    "    \"\"\"\n",
    "    Merges two DataFrame containing the name and duration of members that were present for a meeting.\n",
    "\n",
    "    Args:\n",
    "        clean_list (pd.DataFrame): A DataFrame containing the 'Full Name' column.\n",
    "        clean_meeting_time (pd.DataFrame): A DataFrame containing 'Duration in Minutes' and 'Full Name' columns.\n",
    "\n",
    "    Returns:\n",
    "        pd.DataFrame: A DataFrame containing the 'Full Name' and 'Duration in Minutes' columns.\n",
    "    \"\"\"\n",
    "    df = pd.merge(clean_list['Full Name'],clean_meeting_time[['Duration In Minutes','Full Name']], how = 'inner',on='Full Name')\n",
    "    return df"
   ]
  },
  {
   "cell_type": "code",
   "execution_count": 26,
   "id": "78bfd7b7",
   "metadata": {},
   "outputs": [
    {
     "data": {
      "text/plain": [
       "Index(['Full Name', 'Duration In Minutes'], dtype='object')"
      ]
     },
     "execution_count": 26,
     "metadata": {},
     "output_type": "execute_result"
    }
   ],
   "source": [
    "meeting_1_cleaned.columns"
   ]
  },
  {
   "cell_type": "code",
   "execution_count": 27,
   "id": "976408a3",
   "metadata": {},
   "outputs": [
    {
     "data": {
      "application/vnd.microsoft.datawrangler.viewer.v0+json": {
       "columns": [
        {
         "name": "index",
         "rawType": "int64",
         "type": "integer"
        },
        {
         "name": "Full Name",
         "rawType": "object",
         "type": "string"
        },
        {
         "name": "Duration In Minutes",
         "rawType": "float64",
         "type": "float"
        }
       ],
       "ref": "905cda28-178c-434d-aef8-e8a5547a4b60",
       "rows": [
        [
         "0",
         "Alex D",
         "145.0"
        ],
        [
         "1",
         "Bill Montgomery",
         "147.0"
        ],
        [
         "2",
         "Christina Porter",
         "124.0"
        ]
       ],
       "shape": {
        "columns": 2,
        "rows": 3
       }
      },
      "text/html": [
       "<div>\n",
       "<style scoped>\n",
       "    .dataframe tbody tr th:only-of-type {\n",
       "        vertical-align: middle;\n",
       "    }\n",
       "\n",
       "    .dataframe tbody tr th {\n",
       "        vertical-align: top;\n",
       "    }\n",
       "\n",
       "    .dataframe thead th {\n",
       "        text-align: right;\n",
       "    }\n",
       "</style>\n",
       "<table border=\"1\" class=\"dataframe\">\n",
       "  <thead>\n",
       "    <tr style=\"text-align: right;\">\n",
       "      <th></th>\n",
       "      <th>Full Name</th>\n",
       "      <th>Duration In Minutes</th>\n",
       "    </tr>\n",
       "  </thead>\n",
       "  <tbody>\n",
       "    <tr>\n",
       "      <th>0</th>\n",
       "      <td>Alex D</td>\n",
       "      <td>145.0</td>\n",
       "    </tr>\n",
       "    <tr>\n",
       "      <th>1</th>\n",
       "      <td>Bill Montgomery</td>\n",
       "      <td>147.0</td>\n",
       "    </tr>\n",
       "    <tr>\n",
       "      <th>2</th>\n",
       "      <td>Christina Porter</td>\n",
       "      <td>124.0</td>\n",
       "    </tr>\n",
       "  </tbody>\n",
       "</table>\n",
       "</div>"
      ],
      "text/plain": [
       "          Full Name  Duration In Minutes\n",
       "0            Alex D                145.0\n",
       "1   Bill Montgomery                147.0\n",
       "2  Christina Porter                124.0"
      ]
     },
     "execution_count": 27,
     "metadata": {},
     "output_type": "execute_result"
    }
   ],
   "source": [
    "#merge meeting 1 with mentor list to consolidate into list of mentors that where present and how long they where present\n",
    "mentor_time = match_meeting_times(mentor_list,meeting_1_cleaned)\n",
    "mentor_time"
   ]
  },
  {
   "cell_type": "code",
   "execution_count": 28,
   "id": "4aed423e",
   "metadata": {},
   "outputs": [
    {
     "data": {
      "application/vnd.microsoft.datawrangler.viewer.v0+json": {
       "columns": [
        {
         "name": "index",
         "rawType": "int64",
         "type": "integer"
        },
        {
         "name": "Full Name",
         "rawType": "object",
         "type": "string"
        },
        {
         "name": "Duration In Minutes",
         "rawType": "float64",
         "type": "float"
        }
       ],
       "ref": "d189df7b-0eb0-4d6e-9153-5ae7582fd3c8",
       "rows": [
        [
         "0",
         "Classroom Admin",
         "1.0"
        ]
       ],
       "shape": {
        "columns": 2,
        "rows": 1
       }
      },
      "text/html": [
       "<div>\n",
       "<style scoped>\n",
       "    .dataframe tbody tr th:only-of-type {\n",
       "        vertical-align: middle;\n",
       "    }\n",
       "\n",
       "    .dataframe tbody tr th {\n",
       "        vertical-align: top;\n",
       "    }\n",
       "\n",
       "    .dataframe thead th {\n",
       "        text-align: right;\n",
       "    }\n",
       "</style>\n",
       "<table border=\"1\" class=\"dataframe\">\n",
       "  <thead>\n",
       "    <tr style=\"text-align: right;\">\n",
       "      <th></th>\n",
       "      <th>Full Name</th>\n",
       "      <th>Duration In Minutes</th>\n",
       "    </tr>\n",
       "  </thead>\n",
       "  <tbody>\n",
       "    <tr>\n",
       "      <th>0</th>\n",
       "      <td>Classroom Admin</td>\n",
       "      <td>1.0</td>\n",
       "    </tr>\n",
       "  </tbody>\n",
       "</table>\n",
       "</div>"
      ],
      "text/plain": [
       "         Full Name  Duration In Minutes\n",
       "0  Classroom Admin                  1.0"
      ]
     },
     "execution_count": 28,
     "metadata": {},
     "output_type": "execute_result"
    }
   ],
   "source": [
    "#merge staff 1 with mentor list to consolidate into list of staff that where present and how long they where present\n",
    "staff_time = match_meeting_times(staff_list,meeting_1_cleaned)\n",
    "staff_time"
   ]
  },
  {
   "cell_type": "code",
   "execution_count": 29,
   "id": "2bfdd92e",
   "metadata": {},
   "outputs": [
    {
     "data": {
      "application/vnd.microsoft.datawrangler.viewer.v0+json": {
       "columns": [
        {
         "name": "index",
         "rawType": "int64",
         "type": "integer"
        },
        {
         "name": "Full Name",
         "rawType": "object",
         "type": "string"
        },
        {
         "name": "Duration In Minutes",
         "rawType": "float64",
         "type": "float"
        }
       ],
       "ref": "4ed2bca1-3399-4123-9c07-035b5205d79f",
       "rows": [
        [
         "0",
         "Sheyla Diaz",
         "103.0"
        ],
        [
         "1",
         "James Glosser",
         "100.0"
        ],
        [
         "2",
         "Reed Haddix",
         "106.0"
        ],
        [
         "3",
         "John Hankins",
         "98.0"
        ],
        [
         "4",
         "Stephanie Jones",
         "108.0"
        ],
        [
         "5",
         "Aaron Laliberty",
         "99.0"
        ],
        [
         "6",
         "Dakota Mcmullin",
         "72.0"
        ],
        [
         "7",
         "Toni-Ivy Ownn.",
         "100.0"
        ],
        [
         "8",
         "Michael Puckett",
         "97.0"
        ],
        [
         "9",
         "Leighton Pulliam",
         "101.0"
        ],
        [
         "10",
         "Ken Quiggins",
         "103.0"
        ],
        [
         "11",
         "Amber Ratliff",
         "100.0"
        ],
        [
         "12",
         "Jill Schrank",
         "102.0"
        ],
        [
         "13",
         "Huan Song",
         "103.0"
        ]
       ],
       "shape": {
        "columns": 2,
        "rows": 14
       }
      },
      "text/html": [
       "<div>\n",
       "<style scoped>\n",
       "    .dataframe tbody tr th:only-of-type {\n",
       "        vertical-align: middle;\n",
       "    }\n",
       "\n",
       "    .dataframe tbody tr th {\n",
       "        vertical-align: top;\n",
       "    }\n",
       "\n",
       "    .dataframe thead th {\n",
       "        text-align: right;\n",
       "    }\n",
       "</style>\n",
       "<table border=\"1\" class=\"dataframe\">\n",
       "  <thead>\n",
       "    <tr style=\"text-align: right;\">\n",
       "      <th></th>\n",
       "      <th>Full Name</th>\n",
       "      <th>Duration In Minutes</th>\n",
       "    </tr>\n",
       "  </thead>\n",
       "  <tbody>\n",
       "    <tr>\n",
       "      <th>0</th>\n",
       "      <td>Sheyla Diaz</td>\n",
       "      <td>103.0</td>\n",
       "    </tr>\n",
       "    <tr>\n",
       "      <th>1</th>\n",
       "      <td>James Glosser</td>\n",
       "      <td>100.0</td>\n",
       "    </tr>\n",
       "    <tr>\n",
       "      <th>2</th>\n",
       "      <td>Reed Haddix</td>\n",
       "      <td>106.0</td>\n",
       "    </tr>\n",
       "    <tr>\n",
       "      <th>3</th>\n",
       "      <td>John Hankins</td>\n",
       "      <td>98.0</td>\n",
       "    </tr>\n",
       "    <tr>\n",
       "      <th>4</th>\n",
       "      <td>Stephanie Jones</td>\n",
       "      <td>108.0</td>\n",
       "    </tr>\n",
       "    <tr>\n",
       "      <th>5</th>\n",
       "      <td>Aaron Laliberty</td>\n",
       "      <td>99.0</td>\n",
       "    </tr>\n",
       "    <tr>\n",
       "      <th>6</th>\n",
       "      <td>Dakota Mcmullin</td>\n",
       "      <td>72.0</td>\n",
       "    </tr>\n",
       "    <tr>\n",
       "      <th>7</th>\n",
       "      <td>Toni-Ivy Ownn.</td>\n",
       "      <td>100.0</td>\n",
       "    </tr>\n",
       "    <tr>\n",
       "      <th>8</th>\n",
       "      <td>Michael Puckett</td>\n",
       "      <td>97.0</td>\n",
       "    </tr>\n",
       "    <tr>\n",
       "      <th>9</th>\n",
       "      <td>Leighton Pulliam</td>\n",
       "      <td>101.0</td>\n",
       "    </tr>\n",
       "    <tr>\n",
       "      <th>10</th>\n",
       "      <td>Ken Quiggins</td>\n",
       "      <td>103.0</td>\n",
       "    </tr>\n",
       "    <tr>\n",
       "      <th>11</th>\n",
       "      <td>Amber Ratliff</td>\n",
       "      <td>100.0</td>\n",
       "    </tr>\n",
       "    <tr>\n",
       "      <th>12</th>\n",
       "      <td>Jill Schrank</td>\n",
       "      <td>102.0</td>\n",
       "    </tr>\n",
       "    <tr>\n",
       "      <th>13</th>\n",
       "      <td>Huan Song</td>\n",
       "      <td>103.0</td>\n",
       "    </tr>\n",
       "  </tbody>\n",
       "</table>\n",
       "</div>"
      ],
      "text/plain": [
       "           Full Name  Duration In Minutes\n",
       "0        Sheyla Diaz                103.0\n",
       "1      James Glosser                100.0\n",
       "2        Reed Haddix                106.0\n",
       "3       John Hankins                 98.0\n",
       "4    Stephanie Jones                108.0\n",
       "5    Aaron Laliberty                 99.0\n",
       "6    Dakota Mcmullin                 72.0\n",
       "7     Toni-Ivy Ownn.                100.0\n",
       "8    Michael Puckett                 97.0\n",
       "9   Leighton Pulliam                101.0\n",
       "10      Ken Quiggins                103.0\n",
       "11     Amber Ratliff                100.0\n",
       "12      Jill Schrank                102.0\n",
       "13         Huan Song                103.0"
      ]
     },
     "execution_count": 29,
     "metadata": {},
     "output_type": "execute_result"
    }
   ],
   "source": [
    "meeting_2_cleaned = clean_meeting(meeting_2)\n",
    "meeting_2_cleaned"
   ]
  },
  {
   "cell_type": "code",
   "execution_count": 30,
   "id": "b489007c",
   "metadata": {},
   "outputs": [
    {
     "data": {
      "application/vnd.microsoft.datawrangler.viewer.v0+json": {
       "columns": [
        {
         "name": "index",
         "rawType": "int64",
         "type": "integer"
        },
        {
         "name": "Full Name",
         "rawType": "object",
         "type": "string"
        },
        {
         "name": "Duration In Minutes",
         "rawType": "float64",
         "type": "float"
        }
       ],
       "ref": "9891fe4f-cc39-4f20-997b-483cccd81063",
       "rows": [
        [
         "0",
         "Ken Quiggins",
         "103.0"
        ],
        [
         "1",
         "Michael Puckett",
         "97.0"
        ]
       ],
       "shape": {
        "columns": 2,
        "rows": 2
       }
      },
      "text/html": [
       "<div>\n",
       "<style scoped>\n",
       "    .dataframe tbody tr th:only-of-type {\n",
       "        vertical-align: middle;\n",
       "    }\n",
       "\n",
       "    .dataframe tbody tr th {\n",
       "        vertical-align: top;\n",
       "    }\n",
       "\n",
       "    .dataframe thead th {\n",
       "        text-align: right;\n",
       "    }\n",
       "</style>\n",
       "<table border=\"1\" class=\"dataframe\">\n",
       "  <thead>\n",
       "    <tr style=\"text-align: right;\">\n",
       "      <th></th>\n",
       "      <th>Full Name</th>\n",
       "      <th>Duration In Minutes</th>\n",
       "    </tr>\n",
       "  </thead>\n",
       "  <tbody>\n",
       "    <tr>\n",
       "      <th>0</th>\n",
       "      <td>Ken Quiggins</td>\n",
       "      <td>103.0</td>\n",
       "    </tr>\n",
       "    <tr>\n",
       "      <th>1</th>\n",
       "      <td>Michael Puckett</td>\n",
       "      <td>97.0</td>\n",
       "    </tr>\n",
       "  </tbody>\n",
       "</table>\n",
       "</div>"
      ],
      "text/plain": [
       "         Full Name  Duration In Minutes\n",
       "0     Ken Quiggins                103.0\n",
       "1  Michael Puckett                 97.0"
      ]
     },
     "execution_count": 30,
     "metadata": {},
     "output_type": "execute_result"
    }
   ],
   "source": [
    "#merge meeting 2 with mentor list to consolidate into list of mentors that where present and how long they where present\n",
    "mentor_time_2 = match_meeting_times(mentor_list,meeting_2_cleaned)\n",
    "mentor_time_2"
   ]
  },
  {
   "cell_type": "code",
   "execution_count": 31,
   "id": "20023162",
   "metadata": {},
   "outputs": [
    {
     "data": {
      "application/vnd.microsoft.datawrangler.viewer.v0+json": {
       "columns": [
        {
         "name": "index",
         "rawType": "int64",
         "type": "integer"
        },
        {
         "name": "Full Name",
         "rawType": "object",
         "type": "string"
        },
        {
         "name": "Duration In Minutes",
         "rawType": "float64",
         "type": "float"
        }
       ],
       "ref": "e061b667-b614-48a6-9380-e74e5eec7567",
       "rows": [],
       "shape": {
        "columns": 2,
        "rows": 0
       }
      },
      "text/html": [
       "<div>\n",
       "<style scoped>\n",
       "    .dataframe tbody tr th:only-of-type {\n",
       "        vertical-align: middle;\n",
       "    }\n",
       "\n",
       "    .dataframe tbody tr th {\n",
       "        vertical-align: top;\n",
       "    }\n",
       "\n",
       "    .dataframe thead th {\n",
       "        text-align: right;\n",
       "    }\n",
       "</style>\n",
       "<table border=\"1\" class=\"dataframe\">\n",
       "  <thead>\n",
       "    <tr style=\"text-align: right;\">\n",
       "      <th></th>\n",
       "      <th>Full Name</th>\n",
       "      <th>Duration In Minutes</th>\n",
       "    </tr>\n",
       "  </thead>\n",
       "  <tbody>\n",
       "  </tbody>\n",
       "</table>\n",
       "</div>"
      ],
      "text/plain": [
       "Empty DataFrame\n",
       "Columns: [Full Name, Duration In Minutes]\n",
       "Index: []"
      ]
     },
     "execution_count": 31,
     "metadata": {},
     "output_type": "execute_result"
    }
   ],
   "source": [
    "#merge meeting 2 with staff list to consolidate into list of staff that where present and how long they where present\n",
    "staff_time_2 = match_meeting_times(staff_list,meeting_2_cleaned)\n",
    "staff_time_2"
   ]
  },
  {
   "cell_type": "code",
   "execution_count": 32,
   "id": "b88830f9",
   "metadata": {},
   "outputs": [],
   "source": [
    "def remove_staff_mentor_meeting(meeting: pd.DataFrame, staff_list: pd.DataFrame, mentor_list: pd.DataFrame) -> pd.DataFrame:\n",
    "    \"\"\"\n",
    "        Removes staff and mentor names from the meeting list\n",
    "    Args:\n",
    "        meeting (pd.DataFrame): meeting being reduced\n",
    "        staff_list (pd.DataFrame): list of staff names\n",
    "        mentor_list (pd.DataFrame): list of mentor names\n",
    "\n",
    "    Returns:\n",
    "        pd.DataFrame: list of members and time duration excluding staff and mentor names\n",
    "    \"\"\"\n",
    "    df = meeting[~meeting['Full Name'].isin(mentor_list['Full Name'])]\n",
    "    df = df[~df['Full Name'].isin(staff_list['Full Name'])]\n",
    "    return df"
   ]
  },
  {
   "cell_type": "code",
   "execution_count": 33,
   "id": "205ddadf",
   "metadata": {},
   "outputs": [
    {
     "data": {
      "application/vnd.microsoft.datawrangler.viewer.v0+json": {
       "columns": [
        {
         "name": "index",
         "rawType": "int64",
         "type": "integer"
        },
        {
         "name": "Full Name",
         "rawType": "object",
         "type": "string"
        },
        {
         "name": "Duration In Minutes",
         "rawType": "float64",
         "type": "float"
        }
       ],
       "ref": "4d261239-c17a-4429-b3b4-fb2876c075ab",
       "rows": [
        [
         "1",
         "Angela Moore",
         "148.0"
        ],
        [
         "3",
         "Charles Norman",
         "162.0"
        ],
        [
         "5",
         "Cindy Wedding",
         "142.0"
        ],
        [
         "7",
         "Joel Anderson",
         "147.0"
        ],
        [
         "8",
         "Jonathan Chadwell",
         "144.0"
        ],
        [
         "9",
         "Mendell M",
         "120.0"
        ],
        [
         "10",
         "Oli Ivanova",
         "134.0"
        ],
        [
         "11",
         "S. Byrnes",
         "118.0"
        ],
        [
         "12",
         "Tara Leigh Hylton",
         "125.0"
        ],
        [
         "13",
         "Whitney Parks",
         "158.0"
        ],
        [
         "14",
         "Zachary Young",
         "126.0"
        ],
        [
         "15",
         "Zhenzhen Xie",
         "145.0"
        ]
       ],
       "shape": {
        "columns": 2,
        "rows": 12
       }
      },
      "text/html": [
       "<div>\n",
       "<style scoped>\n",
       "    .dataframe tbody tr th:only-of-type {\n",
       "        vertical-align: middle;\n",
       "    }\n",
       "\n",
       "    .dataframe tbody tr th {\n",
       "        vertical-align: top;\n",
       "    }\n",
       "\n",
       "    .dataframe thead th {\n",
       "        text-align: right;\n",
       "    }\n",
       "</style>\n",
       "<table border=\"1\" class=\"dataframe\">\n",
       "  <thead>\n",
       "    <tr style=\"text-align: right;\">\n",
       "      <th></th>\n",
       "      <th>Full Name</th>\n",
       "      <th>Duration In Minutes</th>\n",
       "    </tr>\n",
       "  </thead>\n",
       "  <tbody>\n",
       "    <tr>\n",
       "      <th>1</th>\n",
       "      <td>Angela Moore</td>\n",
       "      <td>148.0</td>\n",
       "    </tr>\n",
       "    <tr>\n",
       "      <th>3</th>\n",
       "      <td>Charles Norman</td>\n",
       "      <td>162.0</td>\n",
       "    </tr>\n",
       "    <tr>\n",
       "      <th>5</th>\n",
       "      <td>Cindy Wedding</td>\n",
       "      <td>142.0</td>\n",
       "    </tr>\n",
       "    <tr>\n",
       "      <th>7</th>\n",
       "      <td>Joel Anderson</td>\n",
       "      <td>147.0</td>\n",
       "    </tr>\n",
       "    <tr>\n",
       "      <th>8</th>\n",
       "      <td>Jonathan Chadwell</td>\n",
       "      <td>144.0</td>\n",
       "    </tr>\n",
       "    <tr>\n",
       "      <th>9</th>\n",
       "      <td>Mendell M</td>\n",
       "      <td>120.0</td>\n",
       "    </tr>\n",
       "    <tr>\n",
       "      <th>10</th>\n",
       "      <td>Oli Ivanova</td>\n",
       "      <td>134.0</td>\n",
       "    </tr>\n",
       "    <tr>\n",
       "      <th>11</th>\n",
       "      <td>S. Byrnes</td>\n",
       "      <td>118.0</td>\n",
       "    </tr>\n",
       "    <tr>\n",
       "      <th>12</th>\n",
       "      <td>Tara Leigh Hylton</td>\n",
       "      <td>125.0</td>\n",
       "    </tr>\n",
       "    <tr>\n",
       "      <th>13</th>\n",
       "      <td>Whitney Parks</td>\n",
       "      <td>158.0</td>\n",
       "    </tr>\n",
       "    <tr>\n",
       "      <th>14</th>\n",
       "      <td>Zachary Young</td>\n",
       "      <td>126.0</td>\n",
       "    </tr>\n",
       "    <tr>\n",
       "      <th>15</th>\n",
       "      <td>Zhenzhen Xie</td>\n",
       "      <td>145.0</td>\n",
       "    </tr>\n",
       "  </tbody>\n",
       "</table>\n",
       "</div>"
      ],
      "text/plain": [
       "            Full Name  Duration In Minutes\n",
       "1        Angela Moore                148.0\n",
       "3      Charles Norman                162.0\n",
       "5       Cindy Wedding                142.0\n",
       "7       Joel Anderson                147.0\n",
       "8   Jonathan Chadwell                144.0\n",
       "9           Mendell M                120.0\n",
       "10        Oli Ivanova                134.0\n",
       "11          S. Byrnes                118.0\n",
       "12  Tara Leigh Hylton                125.0\n",
       "13      Whitney Parks                158.0\n",
       "14      Zachary Young                126.0\n",
       "15       Zhenzhen Xie                145.0"
      ]
     },
     "execution_count": 33,
     "metadata": {},
     "output_type": "execute_result"
    }
   ],
   "source": [
    "meeting_1_students = remove_staff_mentor_meeting(meeting_1_cleaned,staff_list,mentor_list)\n",
    "meeting_1_students"
   ]
  },
  {
   "cell_type": "code",
   "execution_count": 34,
   "id": "d21aae8a",
   "metadata": {},
   "outputs": [
    {
     "data": {
      "application/vnd.microsoft.datawrangler.viewer.v0+json": {
       "columns": [
        {
         "name": "index",
         "rawType": "int64",
         "type": "integer"
        },
        {
         "name": "Full Name",
         "rawType": "object",
         "type": "string"
        },
        {
         "name": "Duration In Minutes",
         "rawType": "float64",
         "type": "float"
        }
       ],
       "ref": "c71a050a-072d-40bc-aaf6-62fc97e49cb9",
       "rows": [
        [
         "0",
         "Sheyla Diaz",
         "103.0"
        ],
        [
         "1",
         "James Glosser",
         "100.0"
        ],
        [
         "2",
         "Reed Haddix",
         "106.0"
        ],
        [
         "3",
         "John Hankins",
         "98.0"
        ],
        [
         "4",
         "Stephanie Jones",
         "108.0"
        ],
        [
         "5",
         "Aaron Laliberty",
         "99.0"
        ],
        [
         "6",
         "Dakota Mcmullin",
         "72.0"
        ],
        [
         "7",
         "Toni-Ivy Ownn.",
         "100.0"
        ],
        [
         "9",
         "Leighton Pulliam",
         "101.0"
        ],
        [
         "11",
         "Amber Ratliff",
         "100.0"
        ],
        [
         "12",
         "Jill Schrank",
         "102.0"
        ],
        [
         "13",
         "Huan Song",
         "103.0"
        ]
       ],
       "shape": {
        "columns": 2,
        "rows": 12
       }
      },
      "text/html": [
       "<div>\n",
       "<style scoped>\n",
       "    .dataframe tbody tr th:only-of-type {\n",
       "        vertical-align: middle;\n",
       "    }\n",
       "\n",
       "    .dataframe tbody tr th {\n",
       "        vertical-align: top;\n",
       "    }\n",
       "\n",
       "    .dataframe thead th {\n",
       "        text-align: right;\n",
       "    }\n",
       "</style>\n",
       "<table border=\"1\" class=\"dataframe\">\n",
       "  <thead>\n",
       "    <tr style=\"text-align: right;\">\n",
       "      <th></th>\n",
       "      <th>Full Name</th>\n",
       "      <th>Duration In Minutes</th>\n",
       "    </tr>\n",
       "  </thead>\n",
       "  <tbody>\n",
       "    <tr>\n",
       "      <th>0</th>\n",
       "      <td>Sheyla Diaz</td>\n",
       "      <td>103.0</td>\n",
       "    </tr>\n",
       "    <tr>\n",
       "      <th>1</th>\n",
       "      <td>James Glosser</td>\n",
       "      <td>100.0</td>\n",
       "    </tr>\n",
       "    <tr>\n",
       "      <th>2</th>\n",
       "      <td>Reed Haddix</td>\n",
       "      <td>106.0</td>\n",
       "    </tr>\n",
       "    <tr>\n",
       "      <th>3</th>\n",
       "      <td>John Hankins</td>\n",
       "      <td>98.0</td>\n",
       "    </tr>\n",
       "    <tr>\n",
       "      <th>4</th>\n",
       "      <td>Stephanie Jones</td>\n",
       "      <td>108.0</td>\n",
       "    </tr>\n",
       "    <tr>\n",
       "      <th>5</th>\n",
       "      <td>Aaron Laliberty</td>\n",
       "      <td>99.0</td>\n",
       "    </tr>\n",
       "    <tr>\n",
       "      <th>6</th>\n",
       "      <td>Dakota Mcmullin</td>\n",
       "      <td>72.0</td>\n",
       "    </tr>\n",
       "    <tr>\n",
       "      <th>7</th>\n",
       "      <td>Toni-Ivy Ownn.</td>\n",
       "      <td>100.0</td>\n",
       "    </tr>\n",
       "    <tr>\n",
       "      <th>9</th>\n",
       "      <td>Leighton Pulliam</td>\n",
       "      <td>101.0</td>\n",
       "    </tr>\n",
       "    <tr>\n",
       "      <th>11</th>\n",
       "      <td>Amber Ratliff</td>\n",
       "      <td>100.0</td>\n",
       "    </tr>\n",
       "    <tr>\n",
       "      <th>12</th>\n",
       "      <td>Jill Schrank</td>\n",
       "      <td>102.0</td>\n",
       "    </tr>\n",
       "    <tr>\n",
       "      <th>13</th>\n",
       "      <td>Huan Song</td>\n",
       "      <td>103.0</td>\n",
       "    </tr>\n",
       "  </tbody>\n",
       "</table>\n",
       "</div>"
      ],
      "text/plain": [
       "           Full Name  Duration In Minutes\n",
       "0        Sheyla Diaz                103.0\n",
       "1      James Glosser                100.0\n",
       "2        Reed Haddix                106.0\n",
       "3       John Hankins                 98.0\n",
       "4    Stephanie Jones                108.0\n",
       "5    Aaron Laliberty                 99.0\n",
       "6    Dakota Mcmullin                 72.0\n",
       "7     Toni-Ivy Ownn.                100.0\n",
       "9   Leighton Pulliam                101.0\n",
       "11     Amber Ratliff                100.0\n",
       "12      Jill Schrank                102.0\n",
       "13         Huan Song                103.0"
      ]
     },
     "execution_count": 34,
     "metadata": {},
     "output_type": "execute_result"
    }
   ],
   "source": [
    "meeting_2_students = remove_staff_mentor_meeting(meeting_2_cleaned,staff_list,mentor_list)\n",
    "meeting_2_students"
   ]
  },
  {
   "cell_type": "code",
   "execution_count": null,
   "id": "007cf203",
   "metadata": {},
   "outputs": [],
   "source": []
  }
 ],
 "metadata": {
  "kernelspec": {
   "display_name": "venv",
   "language": "python",
   "name": "python3"
  },
  "language_info": {
   "codemirror_mode": {
    "name": "ipython",
    "version": 3
   },
   "file_extension": ".py",
   "mimetype": "text/x-python",
   "name": "python",
   "nbconvert_exporter": "python",
   "pygments_lexer": "ipython3",
   "version": "3.13.0"
  }
 },
 "nbformat": 4,
 "nbformat_minor": 5
}
